{
  "nbformat": 4,
  "nbformat_minor": 0,
  "metadata": {
    "colab": {
      "name": "Sarmen-Sinanian-Linear Algebra Assignment.ipynb",
      "version": "0.3.2",
      "provenance": [],
      "collapsed_sections": [],
      "include_colab_link": true
    },
    "kernelspec": {
      "name": "python3",
      "display_name": "Python 3"
    }
  },
  "cells": [
    {
      "cell_type": "markdown",
      "metadata": {
        "id": "view-in-github",
        "colab_type": "text"
      },
      "source": [
        "<a href=\"https://colab.research.google.com/github/SarmenSinanian/DS-Unit-1-Sprint-4-Linear-Algebra/blob/master/Sarmen_Sinanian_Linear_Algebra_Assignment.ipynb\" target=\"_parent\"><img src=\"https://colab.research.google.com/assets/colab-badge.svg\" alt=\"Open In Colab\"/></a>"
      ]
    },
    {
      "cell_type": "markdown",
      "metadata": {
        "id": "yXA3GwWhY9KL",
        "colab_type": "text"
      },
      "source": [
        "# Part 1 - Scalars and Vectors\n",
        "\n",
        "For the questions below it is not sufficient to simply provide answer to the questions, but you must solve the problems and show your work using python (the NumPy library will help a lot!) Translate the vectors and matrices into their appropriate python  representations and use numpy or functions that you write yourself to demonstrate the result or property. "
      ]
    },
    {
      "cell_type": "markdown",
      "metadata": {
        "id": "oNOTv43_Zi9L",
        "colab_type": "text"
      },
      "source": [
        "## 1.1 Create a two-dimensional vector and plot it on a graph"
      ]
    },
    {
      "cell_type": "code",
      "metadata": {
        "id": "XNqjzQzrkVG7",
        "colab_type": "code",
        "colab": {}
      },
      "source": [
        "import numpy as np\n",
        "import math\n",
        "import matplotlib.pyplot as plt"
      ],
      "execution_count": 0,
      "outputs": []
    },
    {
      "cell_type": "code",
      "metadata": {
        "id": "iVxovh0W6vkH",
        "colab_type": "code",
        "colab": {
          "base_uri": "https://localhost:8080/",
          "height": 287
        },
        "outputId": "f35a1015-0828-4da3-b1ea-3ef13b3e6f77"
      },
      "source": [
        "red = [1, 1]\n",
        "blue = [1, .75]\n",
        "orange = [1,.5]\n",
        "\n",
        "plt.arrow(0,0, red[0], red[1], head_width = .05, head_length=.05,\n",
        "         color = 'red')\n",
        "plt.arrow(0,0, blue[0], blue[1], head_width = .05, head_length=.05,\n",
        "         color = 'blue')\n",
        "plt.arrow(0,0, orange[0], orange[1], head_width = .05, head_length=.05,\n",
        "         color = 'orange')"
      ],
      "execution_count": 3,
      "outputs": [
        {
          "output_type": "execute_result",
          "data": {
            "text/plain": [
              "<matplotlib.patches.FancyArrow at 0x7f98faf46048>"
            ]
          },
          "metadata": {
            "tags": []
          },
          "execution_count": 3
        },
        {
          "output_type": "display_data",
          "data": {
            "image/png": "[encoded data removed]",
            "text/plain": [
              "<Figure size 432x288 with 1 Axes>"
            ]
          },
          "metadata": {
            "tags": []
          }
        }
      ]
    },
    {
      "cell_type": "markdown",
      "metadata": {
        "id": "unKFT619lk3e",
        "colab_type": "text"
      },
      "source": [
        "## 1.2 Create a three-dimensional vecor and plot it on a graph"
      ]
    },
    {
      "cell_type": "code",
      "metadata": {
        "id": "atUEd3T6llKm",
        "colab_type": "code",
        "colab": {
          "base_uri": "https://localhost:8080/",
          "height": 248
        },
        "outputId": "4f3173d4-98c5-4a4d-e9ba-ee858e825614"
      },
      "source": [
        "from mpl_toolkits.mplot3d import Axes3D\n",
        "\n",
        "red = [1, 1, 1]\n",
        "blue = [1, .7, .7]\n",
        "orange = [1, .5, .5]\n",
        "\n",
        "vectors = np.array([[0,0,0, 1, 1, 1],\n",
        "                   [0,0,0, 1, .7, .7],\n",
        "                   [0,0,0, 1, .5, .5]])\n",
        "\n",
        "X, Y, Z, U, V, W = zip(*vectors)\n",
        "fig = plt.figure()\n",
        "ax = fig.add_subplot(111, projection='3d')\n",
        "ax.quiver(X, Y, Z, U, V, W, length=1)\n",
        "ax.set_xlim([0, 1])\n",
        "ax.set_ylim([0, 1])\n",
        "ax.set_zlim([0, 1])\n",
        "ax.set_xlabel('X')\n",
        "ax.set_ylabel('Y')\n",
        "ax.set_zlabel('Z')\n",
        "\n",
        "plt.show()"
      ],
      "execution_count": 4,
      "outputs": [
        {
          "output_type": "display_data",
          "data": {
            "image/png": "[encoded data removed]",
            "text/plain": [
              "<Figure size 432x288 with 1 Axes>"
            ]
          },
          "metadata": {
            "tags": []
          }
        }
      ]
    },
    {
      "cell_type": "markdown",
      "metadata": {
        "id": "b7qFxbKxZmI2",
        "colab_type": "text"
      },
      "source": [
        "## 1.3 Scale the vectors you created in 1.1 by $5$, $\\pi$, and $-e$ and plot all four vectors (original + 3 scaled vectors) on a graph. What do you notice about these vectors? "
      ]
    },
    {
      "cell_type": "markdown",
      "metadata": {
        "id": "EfWDWEr-BR83",
        "colab_type": "text"
      },
      "source": [
        "###They are all colinear."
      ]
    },
    {
      "cell_type": "code",
      "metadata": {
        "id": "ah6zMSLJdJwL",
        "colab_type": "code",
        "outputId": "82d5e8bc-37cb-496f-d4bc-3d326ec23903",
        "colab": {
          "base_uri": "https://localhost:8080/",
          "height": 317
        }
      },
      "source": [
        "from math import e, pi\n",
        "print(e)\n",
        "print(pi)\n",
        "\n",
        "\n",
        "\n",
        "blue_five = np.multiply(5, blue)\n",
        "blue_pi = np.multiply(pi, blue)\n",
        "blue_e = np.multiply(e, blue)\n",
        "\n",
        "\n",
        "\n",
        "plt.arrow(0,0, blue[0], blue[1],head_width=.05, head_length=0.05, color ='blue')\n",
        "plt.arrow(0,0, blue_five[0], blue_five[1],head_width=.05, head_length=0.05, color ='green')\n",
        "plt.arrow(0,0, blue_pi[0], blue_pi[1],head_width=.05, head_length=0.05, color ='yellow')\n",
        "plt.arrow(0,0, blue_e[0], blue_e[1],head_width=.05, head_length=0.05, color ='orange')\n",
        "plt.xlim(-1,10)          \n",
        "plt.ylim(-1,10)\n",
        "plt.title(\"Scaled Vectors\")\n",
        "plt.show()\n",
        "\n",
        "# plt.arrow(0,0, blue[0], blue[1], head_width = .05, head_length=.05,\n",
        "#          color = 'red')\n",
        "# plt.arrow(0,0, blue_five[0], blue_five[1], head_width = .05, head_length=.05,\n",
        "#          color = 'blue')\n",
        "# plt.arrow(0,0, blue_pi[0], blue_pi[1], head_width = .05, head_length=.05,\n",
        "#          color = 'orange')\n",
        "# plt.arrow(0,0, blue_e[0], blue_e[1], head_width = .05, head_length=.05,\n",
        "#          color = 'green')"
      ],
      "execution_count": 17,
      "outputs": [
        {
          "output_type": "stream",
          "text": [
            "2.718281828459045\n",
            "3.141592653589793\n"
          ],
          "name": "stdout"
        },
        {
          "output_type": "display_data",
          "data": {
            "image/png": "[encoded data removed]",
            "text/plain": [
              "<Figure size 432x288 with 1 Axes>"
            ]
          },
          "metadata": {
            "tags": []
          }
        }
      ]
    },
    {
      "cell_type": "markdown",
      "metadata": {
        "id": "wrgqa6sWimbH",
        "colab_type": "text"
      },
      "source": [
        "## 1.4 Graph vectors $\\vec{a}$ and $\\vec{b}$ and plot them on a graph\n",
        "\n",
        "\\begin{align}\n",
        "\\vec{a} = \\begin{bmatrix} 5 \\\\ 7 \\end{bmatrix}\n",
        "\\qquad\n",
        "\\vec{b} = \\begin{bmatrix} 3 \\\\4 \\end{bmatrix}\n",
        "\\end{align}"
      ]
    },
    {
      "cell_type": "code",
      "metadata": {
        "id": "I1BGXA_skV-b",
        "colab_type": "code",
        "colab": {
          "base_uri": "https://localhost:8080/",
          "height": 281
        },
        "outputId": "b9fc71fa-666f-4d20-91e6-d82149d57843"
      },
      "source": [
        "a = [5, 7]\n",
        "b = [3, 4]\n",
        "\n",
        "plt.arrow(0,0, a[0],a[1], head_width =.05, head_length=.05, color = 'red')\n",
        "plt.arrow(0,0, b[0],b[1], head_width =.05, head_length=.05, color = 'blue')\n",
        "plt.xlim(-1,10)\n",
        "plt.ylim(-1,10)\n",
        "plt.title('A and B')\n",
        "plt.show()"
      ],
      "execution_count": 19,
      "outputs": [
        {
          "output_type": "display_data",
          "data": {
            "image/png": "[encoded data removed]",
            "text/plain": [
              "<Figure size 432x288 with 1 Axes>"
            ]
          },
          "metadata": {
            "tags": []
          }
        }
      ]
    },
    {
      "cell_type": "markdown",
      "metadata": {
        "id": "QN6RU_3gizpw",
        "colab_type": "text"
      },
      "source": [
        "## 1.5 find $\\vec{a} - \\vec{b}$ and plot the result on the same graph as $\\vec{a}$ and $\\vec{b}$. Is there a relationship between vectors $\\vec{a} \\thinspace, \\vec{b} \\thinspace \\text{and} \\thinspace \\vec{a-b}$"
      ]
    },
    {
      "cell_type": "markdown",
      "metadata": {
        "id": "eKCKGOUgDjLN",
        "colab_type": "text"
      },
      "source": [
        "###If you add vector C (which is *A-B*) to the tip of vector B, you reach vector A"
      ]
    },
    {
      "cell_type": "code",
      "metadata": {
        "id": "68sWHIOPkXp5",
        "colab_type": "code",
        "colab": {
          "base_uri": "https://localhost:8080/",
          "height": 281
        },
        "outputId": "fa4dd345-7ff8-4368-ae91-25d940ca94b9"
      },
      "source": [
        "c = np.subtract(a,b)\n",
        "\n",
        "plt.arrow(0,0, a[0],a[1], head_width =.05, head_length=.05, color = 'red')\n",
        "plt.arrow(0,0, b[0],b[1], head_width =.05, head_length=.05, color = 'blue')\n",
        "plt.arrow(0,0, c[0],c[1], head_width =.05, head_length=.05, color = 'green')\n",
        "\n",
        "plt.xlim(-1,10)\n",
        "plt.ylim(-1,10)\n",
        "plt.title('A, B, and C(A-B)');"
      ],
      "execution_count": 22,
      "outputs": [
        {
          "output_type": "display_data",
          "data": {
            "image/png": "[encoded data removed]",
            "text/plain": [
              "<Figure size 432x288 with 1 Axes>"
            ]
          },
          "metadata": {
            "tags": []
          }
        }
      ]
    },
    {
      "cell_type": "markdown",
      "metadata": {
        "id": "1ZPVuJAlehu_",
        "colab_type": "text"
      },
      "source": [
        "## 1.6 Find $c \\cdot d$\n",
        "\n",
        "\\begin{align}\n",
        "\\vec{c} = \\begin{bmatrix}7 & 22 & 4 & 16\\end{bmatrix}\n",
        "\\qquad\n",
        "\\vec{d} = \\begin{bmatrix}12 & 6 & 2 & 9\\end{bmatrix}\n",
        "\\end{align}\n"
      ]
    },
    {
      "cell_type": "code",
      "metadata": {
        "id": "2_cZQFCskYNr",
        "colab_type": "code",
        "colab": {
          "base_uri": "https://localhost:8080/",
          "height": 108
        },
        "outputId": "f3b6d592-8deb-45e3-f7a2-b4391d4d558f"
      },
      "source": [
        "c=[7,22,4,16]\n",
        "d=[12,6,2,9]\n",
        "# preanswer = []\n",
        "# answer = 0\n",
        "\n",
        "# def mathmultiplication(listlength, vector1, vector2):\n",
        "#   product = []\n",
        "#   for x in range(len(listlength)+1):\n",
        "#     product = vector1[x]*vector2[x]\n",
        "#     print(product)\n",
        "#     return product\n",
        "\n",
        "# mathmultiplication(c,c,d)\n",
        "\n",
        "def vectordot(v1, v2):\n",
        "  answer = 0\n",
        "  for x in range(len(v1)):\n",
        "    product = v1[x]*v2[x]\n",
        "    answer += product\n",
        "    print(f'V1[{x}]*V2[{x}]answer: {product}')\n",
        "  return answer\n",
        "\n",
        "print(f'V1 dot V2 = {vectordot(c,d)}')"
      ],
      "execution_count": 66,
      "outputs": [
        {
          "output_type": "stream",
          "text": [
            "V1[0]*V2[0]answer: 84\n",
            "V1[1]*V2[1]answer: 132\n",
            "V1[2]*V2[2]answer: 8\n",
            "V1[3]*V2[3]answer: 144\n",
            "V1 dot V2 = 368\n"
          ],
          "name": "stdout"
        }
      ]
    },
    {
      "cell_type": "markdown",
      "metadata": {
        "id": "cLm8yokpfg9B",
        "colab_type": "text"
      },
      "source": [
        "##  1.7 Find $e \\times f$\n",
        "\n",
        "\\begin{align}\n",
        "\\vec{e} = \\begin{bmatrix} 5 \\\\ 7 \\\\ 2 \\end{bmatrix}\n",
        "\\qquad\n",
        "\\vec{f} = \\begin{bmatrix} 3 \\\\4 \\\\ 6 \\end{bmatrix}\n",
        "\\end{align}"
      ]
    },
    {
      "cell_type": "markdown",
      "metadata": {
        "id": "1I9wmVriXWKb",
        "colab_type": "text"
      },
      "source": [
        "#ANY SIMPLER WAY TO DO THIS???"
      ]
    },
    {
      "cell_type": "code",
      "metadata": {
        "id": "ku-TdCKAkYs8",
        "colab_type": "code",
        "colab": {
          "base_uri": "https://localhost:8080/",
          "height": 35
        },
        "outputId": "0d9861c3-ae92-4871-8dfa-35b9fd2c846b"
      },
      "source": [
        "def crossproduct(v1, v2):\n",
        "  product = [(v1[1]*v2[2]-v1[2]*v2[1]),-(v1[0]*v2[2]-v1[2]*v2[0]),(v1[0]*v2[1]-v1[1]*v2[0])]\n",
        "  return product\n",
        "\n",
        "v1=[5,7,2]\n",
        "v2=[3,4,6]\n",
        "\n",
        "crossproduct(v1,v2)"
      ],
      "execution_count": 70,
      "outputs": [
        {
          "output_type": "execute_result",
          "data": {
            "text/plain": [
              "[34, -24, -1]"
            ]
          },
          "metadata": {
            "tags": []
          },
          "execution_count": 70
        }
      ]
    },
    {
      "cell_type": "markdown",
      "metadata": {
        "id": "-TN8wO2-h53s",
        "colab_type": "text"
      },
      "source": [
        "## 1.8 Find $||g||$ and then find $||h||$. Which is longer?\n",
        "\n",
        "\\begin{align}\n",
        "\\vec{g} = \\begin{bmatrix} 1 \\\\ 1 \\\\ 1 \\\\ 8 \\end{bmatrix}\n",
        "\\qquad\n",
        "\\vec{h} = \\begin{bmatrix} 3 \\\\3 \\\\ 3 \\\\ 3 \\end{bmatrix}\n",
        "\\end{align}"
      ]
    },
    {
      "cell_type": "markdown",
      "metadata": {
        "id": "YEVRdUlWbp3T",
        "colab_type": "text"
      },
      "source": [
        "###G is longer"
      ]
    },
    {
      "cell_type": "code",
      "metadata": {
        "id": "-5VKOMKBlgaA",
        "colab_type": "code",
        "colab": {
          "base_uri": "https://localhost:8080/",
          "height": 54
        },
        "outputId": "1a780ffc-d2ab-4ac1-b60c-57774f396bec"
      },
      "source": [
        "def magnitude(v):\n",
        "  raw = 0\n",
        "  for x in range(len(v)):\n",
        "    raw += v[x]**2\n",
        "  mag = raw**.5\n",
        "  return mag\n",
        "\n",
        "g=[1,1,1,8]\n",
        "h=[3,3,3,3]\n",
        "\n",
        "print(f'Magnitude of G = {magnitude(g)}')\n",
        "print(f'Magnitude of H = {magnitude(h)}')\n"
      ],
      "execution_count": 78,
      "outputs": [
        {
          "output_type": "stream",
          "text": [
            "Magnitude of G = 8.18535277187245\n",
            "Magnitude of H = 6.0\n"
          ],
          "name": "stdout"
        }
      ]
    },
    {
      "cell_type": "markdown",
      "metadata": {
        "id": "njrWIMS-ZAoH",
        "colab_type": "text"
      },
      "source": [
        "# Part 2 - Matrices"
      ]
    },
    {
      "cell_type": "markdown",
      "metadata": {
        "id": "GjkcAVIOmOnn",
        "colab_type": "text"
      },
      "source": [
        "## 2.1 What are the dimensions of the following matrices? Which of the following can be multiplied together? See if you can find all of the different legal combinations.\n",
        "\\begin{align}\n",
        "A = \\begin{bmatrix}\n",
        "1 & 2 \\\\\n",
        "3 & 4 \\\\\n",
        "5 & 6\n",
        "\\end{bmatrix}\n",
        "\\qquad\n",
        "B = \\begin{bmatrix}\n",
        "2 & 4 & 6 \\\\\n",
        "\\end{bmatrix}\n",
        "\\qquad\n",
        "C = \\begin{bmatrix}\n",
        "9 & 6 & 3 \\\\\n",
        "4 & 7 & 11\n",
        "\\end{bmatrix}\n",
        "\\qquad\n",
        "D = \\begin{bmatrix}\n",
        "1 & 0 & 0 \\\\\n",
        "0 & 1 & 0 \\\\\n",
        "0 & 0 & 1\n",
        "\\end{bmatrix}\n",
        "\\qquad\n",
        "E = \\begin{bmatrix}\n",
        "1 & 3 \\\\\n",
        "5 & 7\n",
        "\\end{bmatrix}\n",
        "\\end{align}"
      ]
    },
    {
      "cell_type": "markdown",
      "metadata": {
        "id": "sFdE-Og7cBLl",
        "colab_type": "text"
      },
      "source": [
        "##ANSWER\n",
        "###Only B is not a matrix\n",
        "###A&C, A&E, B&A, B&D, C&A, C&E, D&B, and D&C can be multiplied together\n"
      ]
    },
    {
      "cell_type": "markdown",
      "metadata": {
        "id": "lMOlCoM3ncGa",
        "colab_type": "text"
      },
      "source": [
        "## 2.2 Find the following products: CD, AE, and BA. What are the dimensions of the resulting matrices? How does that relate to the dimensions of their factor matrices?"
      ]
    },
    {
      "cell_type": "code",
      "metadata": {
        "id": "zhKwiSItoE2F",
        "colab_type": "code",
        "colab": {
          "base_uri": "https://localhost:8080/",
          "height": 163
        },
        "outputId": "c1755f4d-33f6-4f94-8e6c-76b7973e4b6f"
      },
      "source": [
        "A=np.array([[1,2],[3,4],[5,6]])\n",
        "B=np.array([2,4,6])\n",
        "C=np.array([[9,6,3],[4,7,1]])\n",
        "D=np.array([[1,0,0],[0,1,0],[0,0,1]])\n",
        "E=np.array([[1,3],[5,7]])\n",
        "\n",
        "CD=np.matmul(C,D)\n",
        "AE=np.matmul(A,E)\n",
        "BA=np.matmul(B,A)\n",
        "print(f'CD = {CD}')\n",
        "print('')\n",
        "print(f'AE = {AE}')\n",
        "print('')\n",
        "print(f'BA = {BA}')"
      ],
      "execution_count": 89,
      "outputs": [
        {
          "output_type": "stream",
          "text": [
            "CD = [[9 6 3]\n",
            " [4 7 1]]\n",
            "\n",
            "AE = [[11 17]\n",
            " [23 37]\n",
            " [35 57]]\n",
            "\n",
            "BA = [44 56]\n"
          ],
          "name": "stdout"
        }
      ]
    },
    {
      "cell_type": "markdown",
      "metadata": {
        "id": "p2jmaGLgoFPN",
        "colab_type": "text"
      },
      "source": [
        "## 2.3  Find $F^{T}$. How are the numbers along the main diagonal (top left to bottom right) of the original matrix and its transpose related? What are the dimensions of $F$? What are the dimensions of $F^{T}$?\n",
        "\n",
        "\\begin{align}\n",
        "F = \n",
        "\\begin{bmatrix}\n",
        "20 & 19 & 18 & 17 \\\\\n",
        "16 & 15 & 14 & 13 \\\\\n",
        "12 & 11 & 10 & 9 \\\\\n",
        "8 & 7 & 6 & 5 \\\\\n",
        "4 & 3 & 2 & 1\n",
        "\\end{bmatrix}\n",
        "\\end{align}"
      ]
    },
    {
      "cell_type": "markdown",
      "metadata": {
        "id": "YXy_o886j5bg",
        "colab_type": "text"
      },
      "source": [
        "#ANSWER\n",
        "##They are the same values\n",
        "##5 by 4\n",
        "##4 by 5"
      ]
    },
    {
      "cell_type": "code",
      "metadata": {
        "id": "Wl3ElwgLqaAn",
        "colab_type": "code",
        "colab": {
          "base_uri": "https://localhost:8080/",
          "height": 90
        },
        "outputId": "28bf4a72-0e01-4306-feac-70af3e65ce1d"
      },
      "source": [
        "F=np.array([[20,19,18,17],[16,15,14,13],[12,11,10,9],[8,7,6,5,],[4,3,2,1]])\n",
        "F.T"
      ],
      "execution_count": 91,
      "outputs": [
        {
          "output_type": "execute_result",
          "data": {
            "text/plain": [
              "array([[20, 16, 12,  8,  4],\n",
              "       [19, 15, 11,  7,  3],\n",
              "       [18, 14, 10,  6,  2],\n",
              "       [17, 13,  9,  5,  1]])"
            ]
          },
          "metadata": {
            "tags": []
          },
          "execution_count": 91
        }
      ]
    },
    {
      "cell_type": "markdown",
      "metadata": {
        "id": "13ik2LEEZLHn",
        "colab_type": "text"
      },
      "source": [
        "# Part 3 - Square Matrices"
      ]
    },
    {
      "cell_type": "markdown",
      "metadata": {
        "id": "sDBAPUwfp7f7",
        "colab_type": "text"
      },
      "source": [
        "## 3.1 Find $IG$ (be sure to show your work) 😃\n",
        "\n",
        "\\begin{align}\n",
        "G= \n",
        "\\begin{bmatrix}\n",
        "12 & 11 \\\\\n",
        "7 & 10 \n",
        "\\end{bmatrix}\n",
        "\\end{align}"
      ]
    },
    {
      "cell_type": "code",
      "metadata": {
        "id": "ZnqvZBOYqar3",
        "colab_type": "code",
        "colab": {
          "base_uri": "https://localhost:8080/",
          "height": 54
        },
        "outputId": "50444606-894f-4cab-e836-c5d8514965eb"
      },
      "source": [
        "I = np.array([[1,0],[0,1]])\n",
        "G = np.array([[12,11],[7,10]])\n",
        "\n",
        "IG = np.matmul(I,G)\n",
        "print(IG)"
      ],
      "execution_count": 93,
      "outputs": [
        {
          "output_type": "stream",
          "text": [
            "[[12 11]\n",
            " [ 7 10]]\n"
          ],
          "name": "stdout"
        }
      ]
    },
    {
      "cell_type": "markdown",
      "metadata": {
        "id": "DZ_0XTDQqpMT",
        "colab_type": "text"
      },
      "source": [
        "## 3.2 Find $|H|$ and then find $|J|$.\n",
        "\n",
        "\\begin{align}\n",
        "H= \n",
        "\\begin{bmatrix}\n",
        "12 & 11 \\\\\n",
        "7 & 10 \n",
        "\\end{bmatrix}\n",
        "\\qquad\n",
        "J= \n",
        "\\begin{bmatrix}\n",
        "0 & 1 & 2 \\\\\n",
        "7 & 10 & 4 \\\\\n",
        "3 & 2 & 0\n",
        "\\end{bmatrix}\n",
        "\\end{align}\n"
      ]
    },
    {
      "cell_type": "code",
      "metadata": {
        "id": "5QShhoXyrjDS",
        "colab_type": "code",
        "colab": {
          "base_uri": "https://localhost:8080/",
          "height": 54
        },
        "outputId": "53e8ec91-8fba-45fd-d0e7-dd7273e5977a"
      },
      "source": [
        "H=([[12,11],[7,10]])\n",
        "J=([[0,1,2],[7,10,4],[3,2,0]])\n",
        "\n",
        "det_h = np.linalg.det(H)\n",
        "det_j = np.linalg.det(J)\n",
        "print(f'Determinant of H = {det_h}')\n",
        "print(f'Determinant of J = {det_j}')"
      ],
      "execution_count": 96,
      "outputs": [
        {
          "output_type": "stream",
          "text": [
            "Determinant of H = 43.000000000000014\n",
            "Determinant of J = -19.999999999999996\n"
          ],
          "name": "stdout"
        }
      ]
    },
    {
      "cell_type": "markdown",
      "metadata": {
        "id": "2gZl1CFwrXSH",
        "colab_type": "text"
      },
      "source": [
        "## 3.3 Find $H^{-1}$ and then find $J^{-1}$"
      ]
    },
    {
      "cell_type": "code",
      "metadata": {
        "id": "nyX6De2-rio1",
        "colab_type": "code",
        "colab": {
          "base_uri": "https://localhost:8080/",
          "height": 108
        },
        "outputId": "6d66bbb5-ff1d-4bf8-d4e4-c3f63d6efa9a"
      },
      "source": [
        "inv_h = np.linalg.inv(H)\n",
        "inv_j = np.linalg.inv(J)\n",
        "\n",
        "print(f'Inverse of H = {inv_h}')\n",
        "print(f'Inverse of J = {inv_j}')"
      ],
      "execution_count": 97,
      "outputs": [
        {
          "output_type": "stream",
          "text": [
            "Inverse of H = [[ 0.23255814 -0.25581395]\n",
            " [-0.1627907   0.27906977]]\n",
            "Inverse of J = [[ 0.4  -0.2   0.8 ]\n",
            " [-0.6   0.3  -0.7 ]\n",
            " [ 0.8  -0.15  0.35]]\n"
          ],
          "name": "stdout"
        }
      ]
    },
    {
      "cell_type": "markdown",
      "metadata": {
        "id": "Vvd4Pe86rjhW",
        "colab_type": "text"
      },
      "source": [
        "## 3.4 Find $HH^{-1}$ and then find $J^{-1}J$. Is $HH^{-1} == J^{-1}J$? Why or Why not?"
      ]
    },
    {
      "cell_type": "markdown",
      "metadata": {
        "id": "-Xdc2gJio4rc",
        "colab_type": "text"
      },
      "source": [
        "#Although both result in Identity matrices, HH-1 is a 2x2 identity matrix whereas J-1J is a 3x3 identity matrix"
      ]
    },
    {
      "cell_type": "code",
      "metadata": {
        "id": "BPYwmdy0oJiA",
        "colab_type": "code",
        "colab": {
          "base_uri": "https://localhost:8080/",
          "height": 108
        },
        "outputId": "9c384fd0-8898-44d3-de17-ea52b680dbad"
      },
      "source": [
        "HH = np.dot(H,inv_h)\n",
        "JJ = np.dot(inv_j,J)\n",
        "\n",
        "print(f'H dot H inverse = {HH}')\n",
        "print(f'J dot J inverse = {JJ}')"
      ],
      "execution_count": 100,
      "outputs": [
        {
          "output_type": "stream",
          "text": [
            "H dot H inverse = [[1.00000000e+00 5.55111512e-16]\n",
            " [2.22044605e-16 1.00000000e+00]]\n",
            "J dot J inverse = [[ 1.00000000e+00  2.22044605e-16  0.00000000e+00]\n",
            " [-1.11022302e-16  1.00000000e+00  0.00000000e+00]\n",
            " [-1.66533454e-16 -1.11022302e-16  1.00000000e+00]]\n"
          ],
          "name": "stdout"
        }
      ]
    },
    {
      "cell_type": "markdown",
      "metadata": {
        "id": "V0iTO4McYjtk",
        "colab_type": "text"
      },
      "source": [
        "# Stretch Goals: \n",
        "\n",
        "A reminder that these challenges are optional. If you finish your work quickly we welcome you to work on them. If there are other activities that you feel like will help your understanding of the above topics more, feel free to work on that. Topics from the Stretch Goals sections will never end up on Sprint Challenges. You don't have to do these in order, you don't have to do all of them. \n",
        "\n",
        "- Write a function that can calculate the dot product of any two vectors of equal length that are passed to it.\n",
        "- Write a function that can calculate the norm of any vector\n",
        "- Prove to yourself again that the vectors in 1.9 are orthogonal by graphing them. \n",
        "- Research how to plot a 3d graph with animations so that you can make the graph rotate (this will be easier in a local notebook than in google colab)\n",
        "- Create and plot a matrix on a 2d graph.\n",
        "- Create and plot a matrix on a 3d graph.\n",
        "- Plot two vectors that are not collinear on a 2d graph. Calculate the determinant of the 2x2 matrix that these vectors form. How does this determinant relate to the graphical interpretation of the vectors?\n",
        "\n"
      ]
    }
  ]
}