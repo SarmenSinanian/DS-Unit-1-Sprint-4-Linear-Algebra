{
  "nbformat": 4,
  "nbformat_minor": 0,
  "metadata": {
    "colab": {
      "name": "Sarmen-Sinanian-High Dimensional Data Assignment.ipynb",
      "version": "0.3.2",
      "provenance": [],
      "collapsed_sections": [],
      "include_colab_link": true
    },
    "kernelspec": {
      "name": "python3",
      "display_name": "Python 3"
    }
  },
  "cells": [
    {
      "cell_type": "markdown",
      "metadata": {
        "id": "view-in-github",
        "colab_type": "text"
      },
      "source": [
        "<a href=\"https://colab.research.google.com/github/SarmenSinanian/DS-Unit-1-Sprint-4-Linear-Algebra/blob/master/Sarmen_Sinanian_High_Dimensional_Data_Assignment.ipynb\" target=\"_parent\"><img src=\"https://colab.research.google.com/assets/colab-badge.svg\" alt=\"Open In Colab\"/></a>"
      ]
    },
    {
      "cell_type": "markdown",
      "metadata": {
        "id": "7wMWCkE1RZpM",
        "colab_type": "text"
      },
      "source": [
        "# Vertical Line Test"
      ]
    },
    {
      "cell_type": "markdown",
      "metadata": {
        "id": "W0-g7aprRv2j",
        "colab_type": "text"
      },
      "source": [
        "## 1.1 Create two graphs, one that passes the vertical line test and one that does not."
      ]
    },
    {
      "cell_type": "code",
      "metadata": {
        "id": "fIJhCtF6RW_U",
        "colab_type": "code",
        "colab": {}
      },
      "source": [
        "import numpy as np\n",
        "from sklearn.preprocessing import StandardScaler\n",
        "from sklearn.decomposition import PCA\n",
        "import pandas as pd\n",
        "import math\n",
        "import matplotlib.pyplot as plt\n",
        "import seaborn as sns"
      ],
      "execution_count": 0,
      "outputs": []
    },
    {
      "cell_type": "code",
      "metadata": {
        "id": "1ICtOjdN-aU3",
        "colab_type": "code",
        "outputId": "12668ed7-8198-4b38-f728-1cfe1a897fc4",
        "colab": {
          "base_uri": "https://localhost:8080/",
          "height": 269
        }
      },
      "source": [
        "def create_circle():\n",
        "\tcircle= plt.Circle((0,0), radius= 5)\n",
        "\treturn circle\n",
        "\n",
        "def show_shape(patch):\n",
        "\tax=plt.gca()\n",
        "\tax.add_patch(patch)\n",
        "\tplt.axis('scaled')\n",
        "\tplt.show()\n",
        "\n",
        "if __name__== '__main__':\n",
        "\tc= create_circle()\n",
        "\tshow_shape(c)\n"
      ],
      "execution_count": 5,
      "outputs": [
        {
          "output_type": "display_data",
          "data": {
            "image/png": "[encoded data removed]",
            "text/plain": [
              "<Figure size 432x288 with 1 Axes>"
            ]
          },
          "metadata": {
            "tags": []
          }
        }
      ]
    },
    {
      "cell_type": "code",
      "metadata": {
        "id": "fBkW049j_NVJ",
        "colab_type": "code",
        "outputId": "45c5bbd4-41ef-494e-eb0c-4351a8f0cef4",
        "colab": {
          "base_uri": "https://localhost:8080/",
          "height": 286
        }
      },
      "source": [
        "red = [1, 1]\n",
        "\n",
        "plt.arrow(0,0, red[0], red[1], head_width = .05, head_length=.05,\n",
        "         color = 'red')\n"
      ],
      "execution_count": 6,
      "outputs": [
        {
          "output_type": "execute_result",
          "data": {
            "text/plain": [
              "<matplotlib.patches.FancyArrow at 0x7f01df33dcc0>"
            ]
          },
          "metadata": {
            "tags": []
          },
          "execution_count": 6
        },
        {
          "output_type": "display_data",
          "data": {
            "image/png": "[encoded data removed]",
            "text/plain": [
              "<Figure size 432x288 with 1 Axes>"
            ]
          },
          "metadata": {
            "tags": []
          }
        }
      ]
    },
    {
      "cell_type": "markdown",
      "metadata": {
        "id": "ckeTKqMgRy7g",
        "colab_type": "text"
      },
      "source": [
        "## 1.2 Why are graphs that don't pass the vertical line test not considered \"functions?\""
      ]
    },
    {
      "cell_type": "markdown",
      "metadata": {
        "id": "Gtl20YeDR6x-",
        "colab_type": "text"
      },
      "source": [
        "#BECAUSE THEY CAN HAVE TWO INPUTS RESULTING IN THE SAME SOLUTION"
      ]
    },
    {
      "cell_type": "markdown",
      "metadata": {
        "id": "g21uN62xSKSk",
        "colab_type": "text"
      },
      "source": [
        "# Functions as Relations"
      ]
    },
    {
      "cell_type": "markdown",
      "metadata": {
        "id": "gwkcV-EMSMNd",
        "colab_type": "text"
      },
      "source": [
        "## 2.1 Which of the following relations are functions? Why?\n",
        "\n",
        "\\begin{align}\n",
        "\\text{Relation 1: } \\{(1, 2), (3, 2), (1, 3)\\}\n",
        "\\\\\n",
        "\\text{Relation 2: } \\{(1, 3), (2, 3), (6, 7)\\}\n",
        "\\\\\n",
        "\\text{Relation 3: } \\{(9, 4), (2, 1), (9, 6)\\}\n",
        "\\\\\n",
        "\\text{Relation 4: } \\{(6, 2), (8, 3), (6, 4)\\}\n",
        "\\\\\n",
        "\\text{Relation 5: } \\{(2, 6), (2, 7), (2, 4)\\}\n",
        "\\end{align}"
      ]
    },
    {
      "cell_type": "markdown",
      "metadata": {
        "id": "LlUD_pu5B2of",
        "colab_type": "text"
      },
      "source": [
        "#2 only: all other relations have a situation where 1 x value equals 2 y values"
      ]
    },
    {
      "cell_type": "markdown",
      "metadata": {
        "id": "y0U30PrlTAAa",
        "colab_type": "text"
      },
      "source": [
        "# Functions as a mapping between dimensions\n"
      ]
    },
    {
      "cell_type": "markdown",
      "metadata": {
        "id": "pw-OU9qmT5Ua",
        "colab_type": "text"
      },
      "source": [
        "## 3.1 for the following functions what is the dimensionality of the domain (input) and codomain (range/output)?\n",
        "\n",
        "\\begin{align}\n",
        "m(𝑥_1,𝑥_2,𝑥_3)=(x_1+x_2, x_1+x_3, x_2+x_3)\n",
        "\\\\\n",
        "n(𝑥_1,𝑥_2,𝑥_3,𝑥_4)=(x_2^2 + x_3, x_2x_4)\n",
        "\\end{align}"
      ]
    },
    {
      "cell_type": "markdown",
      "metadata": {
        "id": "nwqaRXr7EHBS",
        "colab_type": "text"
      },
      "source": [
        "#m is 3 to 3\n",
        "#n is 4 to 2"
      ]
    },
    {
      "cell_type": "markdown",
      "metadata": {
        "id": "k4tKHjdHUevC",
        "colab_type": "text"
      },
      "source": [
        "## 3.2 Do you think it's possible to create a function that maps from a lower dimensional space to a higher dimensional space? If so, provide an example."
      ]
    },
    {
      "cell_type": "markdown",
      "metadata": {
        "id": "Eeb7fA97ERO0",
        "colab_type": "text"
      },
      "source": [
        "#NO BECAUSE IT WILL BE A REDUNDANT/NON-ESSENTIAL COLUMN WHICH CAN ONLY BE CREATED FROM SCALING OR ADDING/SUBTRACTING THE LOWER DIMENSIONAL FUNCTION'S VALUES"
      ]
    },
    {
      "cell_type": "markdown",
      "metadata": {
        "id": "2nEWvwVyVWdW",
        "colab_type": "text"
      },
      "source": [
        "# Vector Transformations"
      ]
    },
    {
      "cell_type": "markdown",
      "metadata": {
        "id": "1n0-6FsYVcVk",
        "colab_type": "text"
      },
      "source": [
        "## 4.1 Plug the corresponding unit vectors into each function. Use the output vectors to create a transformation matrix.\n",
        "\n",
        "\\begin{align}\n",
        "p(\\begin{bmatrix}x_1 \\\\ x_2 \\end{bmatrix}) = \\begin{bmatrix} x_1 + 3x_2 \\\\2 x_2 - x_1 \\\\  \\end{bmatrix}\n",
        "\\\\\n",
        "\\\\\n",
        "q(\\begin{bmatrix}x_1 \\\\ x_2 \\\\ x_3\\end{bmatrix}) = \\begin{bmatrix} 4x_1 + x_2 + 2x_3 \\\\2 x_2 - x_1 + 3x_3 \\\\ 5x_1 - 2x_3 + x_2  \\end{bmatrix}\n",
        "\\end{align}"
      ]
    },
    {
      "cell_type": "markdown",
      "metadata": {
        "id": "uxcXauXFOFpM",
        "colab_type": "text"
      },
      "source": [
        "[1,-1], [3,2]\n",
        "\n",
        "[4,-1,5], [1,2,1], [5,1,-2]"
      ]
    },
    {
      "cell_type": "markdown",
      "metadata": {
        "id": "n5HUOQIxZ2gp",
        "colab_type": "text"
      },
      "source": [
        "## 4.2 Verify that your transformation matrices are correct by choosing an input matrix and calculating the result both via the traditional functions above and also via vector-matrix multiplication."
      ]
    },
    {
      "cell_type": "markdown",
      "metadata": {
        "id": "V4pkvDc9fOZv",
        "colab_type": "text"
      },
      "source": [
        "REDUNDANT"
      ]
    },
    {
      "cell_type": "markdown",
      "metadata": {
        "id": "SQDoxStUTC_3",
        "colab_type": "text"
      },
      "source": [
        "#NOT SURE WHAT IS BEING ASKED HERE^^"
      ]
    },
    {
      "cell_type": "markdown",
      "metadata": {
        "id": "vEoiri3mak7j",
        "colab_type": "text"
      },
      "source": [
        "# Eigenvalues and Eigenvectors"
      ]
    },
    {
      "cell_type": "markdown",
      "metadata": {
        "id": "5HY0R4u7anIr",
        "colab_type": "text"
      },
      "source": [
        "## 5.1 In your own words, give an explanation for the intuition behind eigenvalues and eigenvectors."
      ]
    },
    {
      "cell_type": "markdown",
      "metadata": {
        "id": "LlEGO0YDTJBP",
        "colab_type": "text"
      },
      "source": [
        "#EIGENVALUES = The value which is scaling an eigenvector (either bigger or smaller)\n",
        "#EIGENVECTOR = A vector that does not change its orientation during a transformation (i.e. via a scalar Eigenvalue stretching or compressing it)"
      ]
    },
    {
      "cell_type": "markdown",
      "metadata": {
        "id": "VdehMwBtatKI",
        "colab_type": "text"
      },
      "source": [
        "# The Curse of Dimensionality"
      ]
    },
    {
      "cell_type": "markdown",
      "metadata": {
        "id": "4oVrJax-a3SK",
        "colab_type": "text"
      },
      "source": [
        "## 6.1 What are some of the challenges of working with high dimensional spaces?"
      ]
    },
    {
      "cell_type": "markdown",
      "metadata": {
        "id": "cDzbnUZFTdu4",
        "colab_type": "text"
      },
      "source": [
        "- More difficult to explore\n",
        "- Too many columns with not enough rows results in overfitting which makes the model lose predictive power"
      ]
    },
    {
      "cell_type": "markdown",
      "metadata": {
        "id": "ZiBJxsZla88c",
        "colab_type": "text"
      },
      "source": [
        "## 6.2 What is the rule of thumb for how many observations you should have compared to parameters in your model?"
      ]
    },
    {
      "cell_type": "markdown",
      "metadata": {
        "id": "RTqXnsxZctlI",
        "colab_type": "text"
      },
      "source": [
        "5 rows per 1 column.\n",
        "If more columns than rows-> extreme risk of overfit"
      ]
    },
    {
      "cell_type": "markdown",
      "metadata": {
        "id": "NZmqdeygbHJx",
        "colab_type": "text"
      },
      "source": [
        "# Principal Component Analysis"
      ]
    },
    {
      "cell_type": "markdown",
      "metadata": {
        "id": "7iEheetpbJdN",
        "colab_type": "text"
      },
      "source": [
        "## 7.1 Load the UCI Machine Learning Repository's [Iris Dataset](https://gist.githubusercontent.com/curran/a08a1080b88344b0c8a7/raw/d546eaee765268bf2f487608c537c05e22e4b221/iris.csv) and use PCA to isolate the dataset's first and second principal components and plot them on a graph. "
      ]
    },
    {
      "cell_type": "markdown",
      "metadata": {
        "id": "mPpelDvPhNVd",
        "colab_type": "text"
      },
      "source": [
        "## 1) Separate your data into X and Y, variables.\n",
        "\n",
        "Remember that the y variable is the \"label\" or the \"target\" it's the thing that we want to predict. our X variables are all of the features of our data that are going ot help us to predict Y."
      ]
    },
    {
      "cell_type": "code",
      "metadata": {
        "id": "wy9AZVgZcHLZ",
        "colab_type": "code",
        "colab": {
          "base_uri": "https://localhost:8080/",
          "height": 1000
        },
        "outputId": "ce7b52cd-1be5-4fb7-b017-9decf4347702"
      },
      "source": [
        "df = pd.read_csv('https://gist.githubusercontent.com/curran/a08a1080b88344b0c8a7/raw/d546eaee765268bf2f487608c537c05e22e4b221/iris.csv')\n",
        "df"
      ],
      "execution_count": 7,
      "outputs": [
        {
          "output_type": "execute_result",
          "data": {
            "text/html": [
              "<div>\n",
              "<style scoped>\n",
              "    .dataframe tbody tr th:only-of-type {\n",
              "        vertical-align: middle;\n",
              "    }\n",
              "\n",
              "    .dataframe tbody tr th {\n",
              "        vertical-align: top;\n",
              "    }\n",
              "\n",
              "    .dataframe thead th {\n",
              "        text-align: right;\n",
              "    }\n",
              "</style>\n",
              "<table border=\"1\" class=\"dataframe\">\n",
              "  <thead>\n",
              "    <tr style=\"text-align: right;\">\n",
              "      <th></th>\n",
              "      <th>sepal_length</th>\n",
              "      <th>sepal_width</th>\n",
              "      <th>petal_length</th>\n",
              "      <th>petal_width</th>\n",
              "      <th>species</th>\n",
              "    </tr>\n",
              "  </thead>\n",
              "  <tbody>\n",
              "    <tr>\n",
              "      <th>0</th>\n",
              "      <td>5.1</td>\n",
              "      <td>3.5</td>\n",
              "      <td>1.4</td>\n",
              "      <td>0.2</td>\n",
              "      <td>setosa</td>\n",
              "    </tr>\n",
              "    <tr>\n",
              "      <th>1</th>\n",
              "      <td>4.9</td>\n",
              "      <td>3.0</td>\n",
              "      <td>1.4</td>\n",
              "      <td>0.2</td>\n",
              "      <td>setosa</td>\n",
              "    </tr>\n",
              "    <tr>\n",
              "      <th>2</th>\n",
              "      <td>4.7</td>\n",
              "      <td>3.2</td>\n",
              "      <td>1.3</td>\n",
              "      <td>0.2</td>\n",
              "      <td>setosa</td>\n",
              "    </tr>\n",
              "    <tr>\n",
              "      <th>3</th>\n",
              "      <td>4.6</td>\n",
              "      <td>3.1</td>\n",
              "      <td>1.5</td>\n",
              "      <td>0.2</td>\n",
              "      <td>setosa</td>\n",
              "    </tr>\n",
              "    <tr>\n",
              "      <th>4</th>\n",
              "      <td>5.0</td>\n",
              "      <td>3.6</td>\n",
              "      <td>1.4</td>\n",
              "      <td>0.2</td>\n",
              "      <td>setosa</td>\n",
              "    </tr>\n",
              "    <tr>\n",
              "      <th>5</th>\n",
              "      <td>5.4</td>\n",
              "      <td>3.9</td>\n",
              "      <td>1.7</td>\n",
              "      <td>0.4</td>\n",
              "      <td>setosa</td>\n",
              "    </tr>\n",
              "    <tr>\n",
              "      <th>6</th>\n",
              "      <td>4.6</td>\n",
              "      <td>3.4</td>\n",
              "      <td>1.4</td>\n",
              "      <td>0.3</td>\n",
              "      <td>setosa</td>\n",
              "    </tr>\n",
              "    <tr>\n",
              "      <th>7</th>\n",
              "      <td>5.0</td>\n",
              "      <td>3.4</td>\n",
              "      <td>1.5</td>\n",
              "      <td>0.2</td>\n",
              "      <td>setosa</td>\n",
              "    </tr>\n",
              "    <tr>\n",
              "      <th>8</th>\n",
              "      <td>4.4</td>\n",
              "      <td>2.9</td>\n",
              "      <td>1.4</td>\n",
              "      <td>0.2</td>\n",
              "      <td>setosa</td>\n",
              "    </tr>\n",
              "    <tr>\n",
              "      <th>9</th>\n",
              "      <td>4.9</td>\n",
              "      <td>3.1</td>\n",
              "      <td>1.5</td>\n",
              "      <td>0.1</td>\n",
              "      <td>setosa</td>\n",
              "    </tr>\n",
              "    <tr>\n",
              "      <th>10</th>\n",
              "      <td>5.4</td>\n",
              "      <td>3.7</td>\n",
              "      <td>1.5</td>\n",
              "      <td>0.2</td>\n",
              "      <td>setosa</td>\n",
              "    </tr>\n",
              "    <tr>\n",
              "      <th>11</th>\n",
              "      <td>4.8</td>\n",
              "      <td>3.4</td>\n",
              "      <td>1.6</td>\n",
              "      <td>0.2</td>\n",
              "      <td>setosa</td>\n",
              "    </tr>\n",
              "    <tr>\n",
              "      <th>12</th>\n",
              "      <td>4.8</td>\n",
              "      <td>3.0</td>\n",
              "      <td>1.4</td>\n",
              "      <td>0.1</td>\n",
              "      <td>setosa</td>\n",
              "    </tr>\n",
              "    <tr>\n",
              "      <th>13</th>\n",
              "      <td>4.3</td>\n",
              "      <td>3.0</td>\n",
              "      <td>1.1</td>\n",
              "      <td>0.1</td>\n",
              "      <td>setosa</td>\n",
              "    </tr>\n",
              "    <tr>\n",
              "      <th>14</th>\n",
              "      <td>5.8</td>\n",
              "      <td>4.0</td>\n",
              "      <td>1.2</td>\n",
              "      <td>0.2</td>\n",
              "      <td>setosa</td>\n",
              "    </tr>\n",
              "    <tr>\n",
              "      <th>15</th>\n",
              "      <td>5.7</td>\n",
              "      <td>4.4</td>\n",
              "      <td>1.5</td>\n",
              "      <td>0.4</td>\n",
              "      <td>setosa</td>\n",
              "    </tr>\n",
              "    <tr>\n",
              "      <th>16</th>\n",
              "      <td>5.4</td>\n",
              "      <td>3.9</td>\n",
              "      <td>1.3</td>\n",
              "      <td>0.4</td>\n",
              "      <td>setosa</td>\n",
              "    </tr>\n",
              "    <tr>\n",
              "      <th>17</th>\n",
              "      <td>5.1</td>\n",
              "      <td>3.5</td>\n",
              "      <td>1.4</td>\n",
              "      <td>0.3</td>\n",
              "      <td>setosa</td>\n",
              "    </tr>\n",
              "    <tr>\n",
              "      <th>18</th>\n",
              "      <td>5.7</td>\n",
              "      <td>3.8</td>\n",
              "      <td>1.7</td>\n",
              "      <td>0.3</td>\n",
              "      <td>setosa</td>\n",
              "    </tr>\n",
              "    <tr>\n",
              "      <th>19</th>\n",
              "      <td>5.1</td>\n",
              "      <td>3.8</td>\n",
              "      <td>1.5</td>\n",
              "      <td>0.3</td>\n",
              "      <td>setosa</td>\n",
              "    </tr>\n",
              "    <tr>\n",
              "      <th>20</th>\n",
              "      <td>5.4</td>\n",
              "      <td>3.4</td>\n",
              "      <td>1.7</td>\n",
              "      <td>0.2</td>\n",
              "      <td>setosa</td>\n",
              "    </tr>\n",
              "    <tr>\n",
              "      <th>21</th>\n",
              "      <td>5.1</td>\n",
              "      <td>3.7</td>\n",
              "      <td>1.5</td>\n",
              "      <td>0.4</td>\n",
              "      <td>setosa</td>\n",
              "    </tr>\n",
              "    <tr>\n",
              "      <th>22</th>\n",
              "      <td>4.6</td>\n",
              "      <td>3.6</td>\n",
              "      <td>1.0</td>\n",
              "      <td>0.2</td>\n",
              "      <td>setosa</td>\n",
              "    </tr>\n",
              "    <tr>\n",
              "      <th>23</th>\n",
              "      <td>5.1</td>\n",
              "      <td>3.3</td>\n",
              "      <td>1.7</td>\n",
              "      <td>0.5</td>\n",
              "      <td>setosa</td>\n",
              "    </tr>\n",
              "    <tr>\n",
              "      <th>24</th>\n",
              "      <td>4.8</td>\n",
              "      <td>3.4</td>\n",
              "      <td>1.9</td>\n",
              "      <td>0.2</td>\n",
              "      <td>setosa</td>\n",
              "    </tr>\n",
              "    <tr>\n",
              "      <th>25</th>\n",
              "      <td>5.0</td>\n",
              "      <td>3.0</td>\n",
              "      <td>1.6</td>\n",
              "      <td>0.2</td>\n",
              "      <td>setosa</td>\n",
              "    </tr>\n",
              "    <tr>\n",
              "      <th>26</th>\n",
              "      <td>5.0</td>\n",
              "      <td>3.4</td>\n",
              "      <td>1.6</td>\n",
              "      <td>0.4</td>\n",
              "      <td>setosa</td>\n",
              "    </tr>\n",
              "    <tr>\n",
              "      <th>27</th>\n",
              "      <td>5.2</td>\n",
              "      <td>3.5</td>\n",
              "      <td>1.5</td>\n",
              "      <td>0.2</td>\n",
              "      <td>setosa</td>\n",
              "    </tr>\n",
              "    <tr>\n",
              "      <th>28</th>\n",
              "      <td>5.2</td>\n",
              "      <td>3.4</td>\n",
              "      <td>1.4</td>\n",
              "      <td>0.2</td>\n",
              "      <td>setosa</td>\n",
              "    </tr>\n",
              "    <tr>\n",
              "      <th>29</th>\n",
              "      <td>4.7</td>\n",
              "      <td>3.2</td>\n",
              "      <td>1.6</td>\n",
              "      <td>0.2</td>\n",
              "      <td>setosa</td>\n",
              "    </tr>\n",
              "    <tr>\n",
              "      <th>...</th>\n",
              "      <td>...</td>\n",
              "      <td>...</td>\n",
              "      <td>...</td>\n",
              "      <td>...</td>\n",
              "      <td>...</td>\n",
              "    </tr>\n",
              "    <tr>\n",
              "      <th>120</th>\n",
              "      <td>6.9</td>\n",
              "      <td>3.2</td>\n",
              "      <td>5.7</td>\n",
              "      <td>2.3</td>\n",
              "      <td>virginica</td>\n",
              "    </tr>\n",
              "    <tr>\n",
              "      <th>121</th>\n",
              "      <td>5.6</td>\n",
              "      <td>2.8</td>\n",
              "      <td>4.9</td>\n",
              "      <td>2.0</td>\n",
              "      <td>virginica</td>\n",
              "    </tr>\n",
              "    <tr>\n",
              "      <th>122</th>\n",
              "      <td>7.7</td>\n",
              "      <td>2.8</td>\n",
              "      <td>6.7</td>\n",
              "      <td>2.0</td>\n",
              "      <td>virginica</td>\n",
              "    </tr>\n",
              "    <tr>\n",
              "      <th>123</th>\n",
              "      <td>6.3</td>\n",
              "      <td>2.7</td>\n",
              "      <td>4.9</td>\n",
              "      <td>1.8</td>\n",
              "      <td>virginica</td>\n",
              "    </tr>\n",
              "    <tr>\n",
              "      <th>124</th>\n",
              "      <td>6.7</td>\n",
              "      <td>3.3</td>\n",
              "      <td>5.7</td>\n",
              "      <td>2.1</td>\n",
              "      <td>virginica</td>\n",
              "    </tr>\n",
              "    <tr>\n",
              "      <th>125</th>\n",
              "      <td>7.2</td>\n",
              "      <td>3.2</td>\n",
              "      <td>6.0</td>\n",
              "      <td>1.8</td>\n",
              "      <td>virginica</td>\n",
              "    </tr>\n",
              "    <tr>\n",
              "      <th>126</th>\n",
              "      <td>6.2</td>\n",
              "      <td>2.8</td>\n",
              "      <td>4.8</td>\n",
              "      <td>1.8</td>\n",
              "      <td>virginica</td>\n",
              "    </tr>\n",
              "    <tr>\n",
              "      <th>127</th>\n",
              "      <td>6.1</td>\n",
              "      <td>3.0</td>\n",
              "      <td>4.9</td>\n",
              "      <td>1.8</td>\n",
              "      <td>virginica</td>\n",
              "    </tr>\n",
              "    <tr>\n",
              "      <th>128</th>\n",
              "      <td>6.4</td>\n",
              "      <td>2.8</td>\n",
              "      <td>5.6</td>\n",
              "      <td>2.1</td>\n",
              "      <td>virginica</td>\n",
              "    </tr>\n",
              "    <tr>\n",
              "      <th>129</th>\n",
              "      <td>7.2</td>\n",
              "      <td>3.0</td>\n",
              "      <td>5.8</td>\n",
              "      <td>1.6</td>\n",
              "      <td>virginica</td>\n",
              "    </tr>\n",
              "    <tr>\n",
              "      <th>130</th>\n",
              "      <td>7.4</td>\n",
              "      <td>2.8</td>\n",
              "      <td>6.1</td>\n",
              "      <td>1.9</td>\n",
              "      <td>virginica</td>\n",
              "    </tr>\n",
              "    <tr>\n",
              "      <th>131</th>\n",
              "      <td>7.9</td>\n",
              "      <td>3.8</td>\n",
              "      <td>6.4</td>\n",
              "      <td>2.0</td>\n",
              "      <td>virginica</td>\n",
              "    </tr>\n",
              "    <tr>\n",
              "      <th>132</th>\n",
              "      <td>6.4</td>\n",
              "      <td>2.8</td>\n",
              "      <td>5.6</td>\n",
              "      <td>2.2</td>\n",
              "      <td>virginica</td>\n",
              "    </tr>\n",
              "    <tr>\n",
              "      <th>133</th>\n",
              "      <td>6.3</td>\n",
              "      <td>2.8</td>\n",
              "      <td>5.1</td>\n",
              "      <td>1.5</td>\n",
              "      <td>virginica</td>\n",
              "    </tr>\n",
              "    <tr>\n",
              "      <th>134</th>\n",
              "      <td>6.1</td>\n",
              "      <td>2.6</td>\n",
              "      <td>5.6</td>\n",
              "      <td>1.4</td>\n",
              "      <td>virginica</td>\n",
              "    </tr>\n",
              "    <tr>\n",
              "      <th>135</th>\n",
              "      <td>7.7</td>\n",
              "      <td>3.0</td>\n",
              "      <td>6.1</td>\n",
              "      <td>2.3</td>\n",
              "      <td>virginica</td>\n",
              "    </tr>\n",
              "    <tr>\n",
              "      <th>136</th>\n",
              "      <td>6.3</td>\n",
              "      <td>3.4</td>\n",
              "      <td>5.6</td>\n",
              "      <td>2.4</td>\n",
              "      <td>virginica</td>\n",
              "    </tr>\n",
              "    <tr>\n",
              "      <th>137</th>\n",
              "      <td>6.4</td>\n",
              "      <td>3.1</td>\n",
              "      <td>5.5</td>\n",
              "      <td>1.8</td>\n",
              "      <td>virginica</td>\n",
              "    </tr>\n",
              "    <tr>\n",
              "      <th>138</th>\n",
              "      <td>6.0</td>\n",
              "      <td>3.0</td>\n",
              "      <td>4.8</td>\n",
              "      <td>1.8</td>\n",
              "      <td>virginica</td>\n",
              "    </tr>\n",
              "    <tr>\n",
              "      <th>139</th>\n",
              "      <td>6.9</td>\n",
              "      <td>3.1</td>\n",
              "      <td>5.4</td>\n",
              "      <td>2.1</td>\n",
              "      <td>virginica</td>\n",
              "    </tr>\n",
              "    <tr>\n",
              "      <th>140</th>\n",
              "      <td>6.7</td>\n",
              "      <td>3.1</td>\n",
              "      <td>5.6</td>\n",
              "      <td>2.4</td>\n",
              "      <td>virginica</td>\n",
              "    </tr>\n",
              "    <tr>\n",
              "      <th>141</th>\n",
              "      <td>6.9</td>\n",
              "      <td>3.1</td>\n",
              "      <td>5.1</td>\n",
              "      <td>2.3</td>\n",
              "      <td>virginica</td>\n",
              "    </tr>\n",
              "    <tr>\n",
              "      <th>142</th>\n",
              "      <td>5.8</td>\n",
              "      <td>2.7</td>\n",
              "      <td>5.1</td>\n",
              "      <td>1.9</td>\n",
              "      <td>virginica</td>\n",
              "    </tr>\n",
              "    <tr>\n",
              "      <th>143</th>\n",
              "      <td>6.8</td>\n",
              "      <td>3.2</td>\n",
              "      <td>5.9</td>\n",
              "      <td>2.3</td>\n",
              "      <td>virginica</td>\n",
              "    </tr>\n",
              "    <tr>\n",
              "      <th>144</th>\n",
              "      <td>6.7</td>\n",
              "      <td>3.3</td>\n",
              "      <td>5.7</td>\n",
              "      <td>2.5</td>\n",
              "      <td>virginica</td>\n",
              "    </tr>\n",
              "    <tr>\n",
              "      <th>145</th>\n",
              "      <td>6.7</td>\n",
              "      <td>3.0</td>\n",
              "      <td>5.2</td>\n",
              "      <td>2.3</td>\n",
              "      <td>virginica</td>\n",
              "    </tr>\n",
              "    <tr>\n",
              "      <th>146</th>\n",
              "      <td>6.3</td>\n",
              "      <td>2.5</td>\n",
              "      <td>5.0</td>\n",
              "      <td>1.9</td>\n",
              "      <td>virginica</td>\n",
              "    </tr>\n",
              "    <tr>\n",
              "      <th>147</th>\n",
              "      <td>6.5</td>\n",
              "      <td>3.0</td>\n",
              "      <td>5.2</td>\n",
              "      <td>2.0</td>\n",
              "      <td>virginica</td>\n",
              "    </tr>\n",
              "    <tr>\n",
              "      <th>148</th>\n",
              "      <td>6.2</td>\n",
              "      <td>3.4</td>\n",
              "      <td>5.4</td>\n",
              "      <td>2.3</td>\n",
              "      <td>virginica</td>\n",
              "    </tr>\n",
              "    <tr>\n",
              "      <th>149</th>\n",
              "      <td>5.9</td>\n",
              "      <td>3.0</td>\n",
              "      <td>5.1</td>\n",
              "      <td>1.8</td>\n",
              "      <td>virginica</td>\n",
              "    </tr>\n",
              "  </tbody>\n",
              "</table>\n",
              "<p>150 rows × 5 columns</p>\n",
              "</div>"
            ],
            "text/plain": [
              "     sepal_length  sepal_width  petal_length  petal_width    species\n",
              "0             5.1          3.5           1.4          0.2     setosa\n",
              "1             4.9          3.0           1.4          0.2     setosa\n",
              "2             4.7          3.2           1.3          0.2     setosa\n",
              "3             4.6          3.1           1.5          0.2     setosa\n",
              "4             5.0          3.6           1.4          0.2     setosa\n",
              "5             5.4          3.9           1.7          0.4     setosa\n",
              "6             4.6          3.4           1.4          0.3     setosa\n",
              "7             5.0          3.4           1.5          0.2     setosa\n",
              "8             4.4          2.9           1.4          0.2     setosa\n",
              "9             4.9          3.1           1.5          0.1     setosa\n",
              "10            5.4          3.7           1.5          0.2     setosa\n",
              "11            4.8          3.4           1.6          0.2     setosa\n",
              "12            4.8          3.0           1.4          0.1     setosa\n",
              "13            4.3          3.0           1.1          0.1     setosa\n",
              "14            5.8          4.0           1.2          0.2     setosa\n",
              "15            5.7          4.4           1.5          0.4     setosa\n",
              "16            5.4          3.9           1.3          0.4     setosa\n",
              "17            5.1          3.5           1.4          0.3     setosa\n",
              "18            5.7          3.8           1.7          0.3     setosa\n",
              "19            5.1          3.8           1.5          0.3     setosa\n",
              "20            5.4          3.4           1.7          0.2     setosa\n",
              "21            5.1          3.7           1.5          0.4     setosa\n",
              "22            4.6          3.6           1.0          0.2     setosa\n",
              "23            5.1          3.3           1.7          0.5     setosa\n",
              "24            4.8          3.4           1.9          0.2     setosa\n",
              "25            5.0          3.0           1.6          0.2     setosa\n",
              "26            5.0          3.4           1.6          0.4     setosa\n",
              "27            5.2          3.5           1.5          0.2     setosa\n",
              "28            5.2          3.4           1.4          0.2     setosa\n",
              "29            4.7          3.2           1.6          0.2     setosa\n",
              "..            ...          ...           ...          ...        ...\n",
              "120           6.9          3.2           5.7          2.3  virginica\n",
              "121           5.6          2.8           4.9          2.0  virginica\n",
              "122           7.7          2.8           6.7          2.0  virginica\n",
              "123           6.3          2.7           4.9          1.8  virginica\n",
              "124           6.7          3.3           5.7          2.1  virginica\n",
              "125           7.2          3.2           6.0          1.8  virginica\n",
              "126           6.2          2.8           4.8          1.8  virginica\n",
              "127           6.1          3.0           4.9          1.8  virginica\n",
              "128           6.4          2.8           5.6          2.1  virginica\n",
              "129           7.2          3.0           5.8          1.6  virginica\n",
              "130           7.4          2.8           6.1          1.9  virginica\n",
              "131           7.9          3.8           6.4          2.0  virginica\n",
              "132           6.4          2.8           5.6          2.2  virginica\n",
              "133           6.3          2.8           5.1          1.5  virginica\n",
              "134           6.1          2.6           5.6          1.4  virginica\n",
              "135           7.7          3.0           6.1          2.3  virginica\n",
              "136           6.3          3.4           5.6          2.4  virginica\n",
              "137           6.4          3.1           5.5          1.8  virginica\n",
              "138           6.0          3.0           4.8          1.8  virginica\n",
              "139           6.9          3.1           5.4          2.1  virginica\n",
              "140           6.7          3.1           5.6          2.4  virginica\n",
              "141           6.9          3.1           5.1          2.3  virginica\n",
              "142           5.8          2.7           5.1          1.9  virginica\n",
              "143           6.8          3.2           5.9          2.3  virginica\n",
              "144           6.7          3.3           5.7          2.5  virginica\n",
              "145           6.7          3.0           5.2          2.3  virginica\n",
              "146           6.3          2.5           5.0          1.9  virginica\n",
              "147           6.5          3.0           5.2          2.0  virginica\n",
              "148           6.2          3.4           5.4          2.3  virginica\n",
              "149           5.9          3.0           5.1          1.8  virginica\n",
              "\n",
              "[150 rows x 5 columns]"
            ]
          },
          "metadata": {
            "tags": []
          },
          "execution_count": 7
        }
      ]
    },
    {
      "cell_type": "code",
      "metadata": {
        "id": "0lzvtZjjkDHJ",
        "colab_type": "code",
        "colab": {}
      },
      "source": [
        "df_x = df.drop('species', axis='columns')"
      ],
      "execution_count": 0,
      "outputs": []
    },
    {
      "cell_type": "code",
      "metadata": {
        "id": "bR8zr03wkXtb",
        "colab_type": "code",
        "colab": {
          "base_uri": "https://localhost:8080/",
          "height": 204
        },
        "outputId": "e627ac8a-d7df-4712-f188-06c2c03e067e"
      },
      "source": [
        "df_x.head()"
      ],
      "execution_count": 10,
      "outputs": [
        {
          "output_type": "execute_result",
          "data": {
            "text/html": [
              "<div>\n",
              "<style scoped>\n",
              "    .dataframe tbody tr th:only-of-type {\n",
              "        vertical-align: middle;\n",
              "    }\n",
              "\n",
              "    .dataframe tbody tr th {\n",
              "        vertical-align: top;\n",
              "    }\n",
              "\n",
              "    .dataframe thead th {\n",
              "        text-align: right;\n",
              "    }\n",
              "</style>\n",
              "<table border=\"1\" class=\"dataframe\">\n",
              "  <thead>\n",
              "    <tr style=\"text-align: right;\">\n",
              "      <th></th>\n",
              "      <th>sepal_length</th>\n",
              "      <th>sepal_width</th>\n",
              "      <th>petal_length</th>\n",
              "      <th>petal_width</th>\n",
              "    </tr>\n",
              "  </thead>\n",
              "  <tbody>\n",
              "    <tr>\n",
              "      <th>0</th>\n",
              "      <td>5.1</td>\n",
              "      <td>3.5</td>\n",
              "      <td>1.4</td>\n",
              "      <td>0.2</td>\n",
              "    </tr>\n",
              "    <tr>\n",
              "      <th>1</th>\n",
              "      <td>4.9</td>\n",
              "      <td>3.0</td>\n",
              "      <td>1.4</td>\n",
              "      <td>0.2</td>\n",
              "    </tr>\n",
              "    <tr>\n",
              "      <th>2</th>\n",
              "      <td>4.7</td>\n",
              "      <td>3.2</td>\n",
              "      <td>1.3</td>\n",
              "      <td>0.2</td>\n",
              "    </tr>\n",
              "    <tr>\n",
              "      <th>3</th>\n",
              "      <td>4.6</td>\n",
              "      <td>3.1</td>\n",
              "      <td>1.5</td>\n",
              "      <td>0.2</td>\n",
              "    </tr>\n",
              "    <tr>\n",
              "      <th>4</th>\n",
              "      <td>5.0</td>\n",
              "      <td>3.6</td>\n",
              "      <td>1.4</td>\n",
              "      <td>0.2</td>\n",
              "    </tr>\n",
              "  </tbody>\n",
              "</table>\n",
              "</div>"
            ],
            "text/plain": [
              "   sepal_length  sepal_width  petal_length  petal_width\n",
              "0           5.1          3.5           1.4          0.2\n",
              "1           4.9          3.0           1.4          0.2\n",
              "2           4.7          3.2           1.3          0.2\n",
              "3           4.6          3.1           1.5          0.2\n",
              "4           5.0          3.6           1.4          0.2"
            ]
          },
          "metadata": {
            "tags": []
          },
          "execution_count": 10
        }
      ]
    },
    {
      "cell_type": "code",
      "metadata": {
        "id": "mUAtePCwkXxQ",
        "colab_type": "code",
        "colab": {}
      },
      "source": [
        "df_y = df['species']"
      ],
      "execution_count": 0,
      "outputs": []
    },
    {
      "cell_type": "code",
      "metadata": {
        "id": "mYAS8nz-kX0A",
        "colab_type": "code",
        "colab": {
          "base_uri": "https://localhost:8080/",
          "height": 119
        },
        "outputId": "26521fef-71fe-42ea-c133-fb22f35ff401"
      },
      "source": [
        "df_y.head()"
      ],
      "execution_count": 13,
      "outputs": [
        {
          "output_type": "execute_result",
          "data": {
            "text/plain": [
              "0    setosa\n",
              "1    setosa\n",
              "2    setosa\n",
              "3    setosa\n",
              "4    setosa\n",
              "Name: species, dtype: object"
            ]
          },
          "metadata": {
            "tags": []
          },
          "execution_count": 13
        }
      ]
    },
    {
      "cell_type": "code",
      "metadata": {
        "id": "73cU2fBikX2q",
        "colab_type": "code",
        "colab": {
          "base_uri": "https://localhost:8080/",
          "height": 1000
        },
        "outputId": "9d1fb025-ad98-4a12-897e-7dbf38cc0377"
      },
      "source": [
        "X = df_x.values\n",
        "X"
      ],
      "execution_count": 14,
      "outputs": [
        {
          "output_type": "execute_result",
          "data": {
            "text/plain": [
              "array([[5.1, 3.5, 1.4, 0.2],\n",
              "       [4.9, 3. , 1.4, 0.2],\n",
              "       [4.7, 3.2, 1.3, 0.2],\n",
              "       [4.6, 3.1, 1.5, 0.2],\n",
              "       [5. , 3.6, 1.4, 0.2],\n",
              "       [5.4, 3.9, 1.7, 0.4],\n",
              "       [4.6, 3.4, 1.4, 0.3],\n",
              "       [5. , 3.4, 1.5, 0.2],\n",
              "       [4.4, 2.9, 1.4, 0.2],\n",
              "       [4.9, 3.1, 1.5, 0.1],\n",
              "       [5.4, 3.7, 1.5, 0.2],\n",
              "       [4.8, 3.4, 1.6, 0.2],\n",
              "       [4.8, 3. , 1.4, 0.1],\n",
              "       [4.3, 3. , 1.1, 0.1],\n",
              "       [5.8, 4. , 1.2, 0.2],\n",
              "       [5.7, 4.4, 1.5, 0.4],\n",
              "       [5.4, 3.9, 1.3, 0.4],\n",
              "       [5.1, 3.5, 1.4, 0.3],\n",
              "       [5.7, 3.8, 1.7, 0.3],\n",
              "       [5.1, 3.8, 1.5, 0.3],\n",
              "       [5.4, 3.4, 1.7, 0.2],\n",
              "       [5.1, 3.7, 1.5, 0.4],\n",
              "       [4.6, 3.6, 1. , 0.2],\n",
              "       [5.1, 3.3, 1.7, 0.5],\n",
              "       [4.8, 3.4, 1.9, 0.2],\n",
              "       [5. , 3. , 1.6, 0.2],\n",
              "       [5. , 3.4, 1.6, 0.4],\n",
              "       [5.2, 3.5, 1.5, 0.2],\n",
              "       [5.2, 3.4, 1.4, 0.2],\n",
              "       [4.7, 3.2, 1.6, 0.2],\n",
              "       [4.8, 3.1, 1.6, 0.2],\n",
              "       [5.4, 3.4, 1.5, 0.4],\n",
              "       [5.2, 4.1, 1.5, 0.1],\n",
              "       [5.5, 4.2, 1.4, 0.2],\n",
              "       [4.9, 3.1, 1.5, 0.1],\n",
              "       [5. , 3.2, 1.2, 0.2],\n",
              "       [5.5, 3.5, 1.3, 0.2],\n",
              "       [4.9, 3.1, 1.5, 0.1],\n",
              "       [4.4, 3. , 1.3, 0.2],\n",
              "       [5.1, 3.4, 1.5, 0.2],\n",
              "       [5. , 3.5, 1.3, 0.3],\n",
              "       [4.5, 2.3, 1.3, 0.3],\n",
              "       [4.4, 3.2, 1.3, 0.2],\n",
              "       [5. , 3.5, 1.6, 0.6],\n",
              "       [5.1, 3.8, 1.9, 0.4],\n",
              "       [4.8, 3. , 1.4, 0.3],\n",
              "       [5.1, 3.8, 1.6, 0.2],\n",
              "       [4.6, 3.2, 1.4, 0.2],\n",
              "       [5.3, 3.7, 1.5, 0.2],\n",
              "       [5. , 3.3, 1.4, 0.2],\n",
              "       [7. , 3.2, 4.7, 1.4],\n",
              "       [6.4, 3.2, 4.5, 1.5],\n",
              "       [6.9, 3.1, 4.9, 1.5],\n",
              "       [5.5, 2.3, 4. , 1.3],\n",
              "       [6.5, 2.8, 4.6, 1.5],\n",
              "       [5.7, 2.8, 4.5, 1.3],\n",
              "       [6.3, 3.3, 4.7, 1.6],\n",
              "       [4.9, 2.4, 3.3, 1. ],\n",
              "       [6.6, 2.9, 4.6, 1.3],\n",
              "       [5.2, 2.7, 3.9, 1.4],\n",
              "       [5. , 2. , 3.5, 1. ],\n",
              "       [5.9, 3. , 4.2, 1.5],\n",
              "       [6. , 2.2, 4. , 1. ],\n",
              "       [6.1, 2.9, 4.7, 1.4],\n",
              "       [5.6, 2.9, 3.6, 1.3],\n",
              "       [6.7, 3.1, 4.4, 1.4],\n",
              "       [5.6, 3. , 4.5, 1.5],\n",
              "       [5.8, 2.7, 4.1, 1. ],\n",
              "       [6.2, 2.2, 4.5, 1.5],\n",
              "       [5.6, 2.5, 3.9, 1.1],\n",
              "       [5.9, 3.2, 4.8, 1.8],\n",
              "       [6.1, 2.8, 4. , 1.3],\n",
              "       [6.3, 2.5, 4.9, 1.5],\n",
              "       [6.1, 2.8, 4.7, 1.2],\n",
              "       [6.4, 2.9, 4.3, 1.3],\n",
              "       [6.6, 3. , 4.4, 1.4],\n",
              "       [6.8, 2.8, 4.8, 1.4],\n",
              "       [6.7, 3. , 5. , 1.7],\n",
              "       [6. , 2.9, 4.5, 1.5],\n",
              "       [5.7, 2.6, 3.5, 1. ],\n",
              "       [5.5, 2.4, 3.8, 1.1],\n",
              "       [5.5, 2.4, 3.7, 1. ],\n",
              "       [5.8, 2.7, 3.9, 1.2],\n",
              "       [6. , 2.7, 5.1, 1.6],\n",
              "       [5.4, 3. , 4.5, 1.5],\n",
              "       [6. , 3.4, 4.5, 1.6],\n",
              "       [6.7, 3.1, 4.7, 1.5],\n",
              "       [6.3, 2.3, 4.4, 1.3],\n",
              "       [5.6, 3. , 4.1, 1.3],\n",
              "       [5.5, 2.5, 4. , 1.3],\n",
              "       [5.5, 2.6, 4.4, 1.2],\n",
              "       [6.1, 3. , 4.6, 1.4],\n",
              "       [5.8, 2.6, 4. , 1.2],\n",
              "       [5. , 2.3, 3.3, 1. ],\n",
              "       [5.6, 2.7, 4.2, 1.3],\n",
              "       [5.7, 3. , 4.2, 1.2],\n",
              "       [5.7, 2.9, 4.2, 1.3],\n",
              "       [6.2, 2.9, 4.3, 1.3],\n",
              "       [5.1, 2.5, 3. , 1.1],\n",
              "       [5.7, 2.8, 4.1, 1.3],\n",
              "       [6.3, 3.3, 6. , 2.5],\n",
              "       [5.8, 2.7, 5.1, 1.9],\n",
              "       [7.1, 3. , 5.9, 2.1],\n",
              "       [6.3, 2.9, 5.6, 1.8],\n",
              "       [6.5, 3. , 5.8, 2.2],\n",
              "       [7.6, 3. , 6.6, 2.1],\n",
              "       [4.9, 2.5, 4.5, 1.7],\n",
              "       [7.3, 2.9, 6.3, 1.8],\n",
              "       [6.7, 2.5, 5.8, 1.8],\n",
              "       [7.2, 3.6, 6.1, 2.5],\n",
              "       [6.5, 3.2, 5.1, 2. ],\n",
              "       [6.4, 2.7, 5.3, 1.9],\n",
              "       [6.8, 3. , 5.5, 2.1],\n",
              "       [5.7, 2.5, 5. , 2. ],\n",
              "       [5.8, 2.8, 5.1, 2.4],\n",
              "       [6.4, 3.2, 5.3, 2.3],\n",
              "       [6.5, 3. , 5.5, 1.8],\n",
              "       [7.7, 3.8, 6.7, 2.2],\n",
              "       [7.7, 2.6, 6.9, 2.3],\n",
              "       [6. , 2.2, 5. , 1.5],\n",
              "       [6.9, 3.2, 5.7, 2.3],\n",
              "       [5.6, 2.8, 4.9, 2. ],\n",
              "       [7.7, 2.8, 6.7, 2. ],\n",
              "       [6.3, 2.7, 4.9, 1.8],\n",
              "       [6.7, 3.3, 5.7, 2.1],\n",
              "       [7.2, 3.2, 6. , 1.8],\n",
              "       [6.2, 2.8, 4.8, 1.8],\n",
              "       [6.1, 3. , 4.9, 1.8],\n",
              "       [6.4, 2.8, 5.6, 2.1],\n",
              "       [7.2, 3. , 5.8, 1.6],\n",
              "       [7.4, 2.8, 6.1, 1.9],\n",
              "       [7.9, 3.8, 6.4, 2. ],\n",
              "       [6.4, 2.8, 5.6, 2.2],\n",
              "       [6.3, 2.8, 5.1, 1.5],\n",
              "       [6.1, 2.6, 5.6, 1.4],\n",
              "       [7.7, 3. , 6.1, 2.3],\n",
              "       [6.3, 3.4, 5.6, 2.4],\n",
              "       [6.4, 3.1, 5.5, 1.8],\n",
              "       [6. , 3. , 4.8, 1.8],\n",
              "       [6.9, 3.1, 5.4, 2.1],\n",
              "       [6.7, 3.1, 5.6, 2.4],\n",
              "       [6.9, 3.1, 5.1, 2.3],\n",
              "       [5.8, 2.7, 5.1, 1.9],\n",
              "       [6.8, 3.2, 5.9, 2.3],\n",
              "       [6.7, 3.3, 5.7, 2.5],\n",
              "       [6.7, 3. , 5.2, 2.3],\n",
              "       [6.3, 2.5, 5. , 1.9],\n",
              "       [6.5, 3. , 5.2, 2. ],\n",
              "       [6.2, 3.4, 5.4, 2.3],\n",
              "       [5.9, 3. , 5.1, 1.8]])"
            ]
          },
          "metadata": {
            "tags": []
          },
          "execution_count": 14
        }
      ]
    },
    {
      "cell_type": "code",
      "metadata": {
        "id": "Nch2RJn2u39r",
        "colab_type": "code",
        "colab": {
          "base_uri": "https://localhost:8080/",
          "height": 34
        },
        "outputId": "4de9eff1-3277-426d-9801-0793535d8512"
      },
      "source": [
        "X.mean(axis=0)"
      ],
      "execution_count": 18,
      "outputs": [
        {
          "output_type": "execute_result",
          "data": {
            "text/plain": [
              "array([5.84333333, 3.054     , 3.75866667, 1.19866667])"
            ]
          },
          "metadata": {
            "tags": []
          },
          "execution_count": 18
        }
      ]
    },
    {
      "cell_type": "code",
      "metadata": {
        "id": "TRqckPpzu9gT",
        "colab_type": "code",
        "colab": {
          "base_uri": "https://localhost:8080/",
          "height": 34
        },
        "outputId": "7f3b5e61-57d0-46b3-9c95-b8a0c6d7b3f7"
      },
      "source": [
        "X.std(axis=0, ddof=0)"
      ],
      "execution_count": 19,
      "outputs": [
        {
          "output_type": "execute_result",
          "data": {
            "text/plain": [
              "array([0.82530129, 0.43214658, 1.75852918, 0.76061262])"
            ]
          },
          "metadata": {
            "tags": []
          },
          "execution_count": 19
        }
      ]
    },
    {
      "cell_type": "markdown",
      "metadata": {
        "id": "jlQ7yNQgvyIJ",
        "colab_type": "text"
      },
      "source": [
        "## 2) Center each column at 0 by subtracting its mean.\n",
        "\n",
        "Take the matrix of independent variables $X$ and, for each column, subtract the mean of that column from each entry. (This ensures that each column has a mean of zero.)\n",
        "\n",
        "If we don't do this then it will appear as if one component explains most of the variance in the data and the other components explain very little.  \n",
        "\n",
        "## 3) Divide each column by its standard deviation.\n",
        "\n",
        "This completes the process of \"standardizing\" our data - giving it a mean of 0 and a standard deviation of 1. Just like we standardized our variance and covariance, this now makes the variances of our different features comparable and removes some of the concerns that were brought up when we talked about the rotated elipse of points.\n",
        " \n",
        "We'll call the new standardized matrix the $Z$ matrix."
      ]
    },
    {
      "cell_type": "code",
      "metadata": {
        "id": "BjZd9NGvkX5Y",
        "colab_type": "code",
        "colab": {
          "base_uri": "https://localhost:8080/",
          "height": 1000
        },
        "outputId": "f23406cc-fdb1-4d80-d477-32cd95441803"
      },
      "source": [
        "import numpy as np\n",
        "from sklearn.preprocessing import StandardScaler\n",
        "\n",
        "Z = (X-X.mean(axis=0))/X.std(axis=0,ddof=0)\n",
        "\n",
        "\n",
        "Z"
      ],
      "execution_count": 35,
      "outputs": [
        {
          "output_type": "execute_result",
          "data": {
            "text/plain": [
              "array([[-9.00681170e-01,  1.03205722e+00, -1.34127240e+00,\n",
              "        -1.31297673e+00],\n",
              "       [-1.14301691e+00, -1.24957601e-01, -1.34127240e+00,\n",
              "        -1.31297673e+00],\n",
              "       [-1.38535265e+00,  3.37848329e-01, -1.39813811e+00,\n",
              "        -1.31297673e+00],\n",
              "       [-1.50652052e+00,  1.06445364e-01, -1.28440670e+00,\n",
              "        -1.31297673e+00],\n",
              "       [-1.02184904e+00,  1.26346019e+00, -1.34127240e+00,\n",
              "        -1.31297673e+00],\n",
              "       [-5.37177559e-01,  1.95766909e+00, -1.17067529e+00,\n",
              "        -1.05003079e+00],\n",
              "       [-1.50652052e+00,  8.00654259e-01, -1.34127240e+00,\n",
              "        -1.18150376e+00],\n",
              "       [-1.02184904e+00,  8.00654259e-01, -1.28440670e+00,\n",
              "        -1.31297673e+00],\n",
              "       [-1.74885626e+00, -3.56360566e-01, -1.34127240e+00,\n",
              "        -1.31297673e+00],\n",
              "       [-1.14301691e+00,  1.06445364e-01, -1.28440670e+00,\n",
              "        -1.44444970e+00],\n",
              "       [-5.37177559e-01,  1.49486315e+00, -1.28440670e+00,\n",
              "        -1.31297673e+00],\n",
              "       [-1.26418478e+00,  8.00654259e-01, -1.22754100e+00,\n",
              "        -1.31297673e+00],\n",
              "       [-1.26418478e+00, -1.24957601e-01, -1.34127240e+00,\n",
              "        -1.44444970e+00],\n",
              "       [-1.87002413e+00, -1.24957601e-01, -1.51186952e+00,\n",
              "        -1.44444970e+00],\n",
              "       [-5.25060772e-02,  2.18907205e+00, -1.45500381e+00,\n",
              "        -1.31297673e+00],\n",
              "       [-1.73673948e-01,  3.11468391e+00, -1.28440670e+00,\n",
              "        -1.05003079e+00],\n",
              "       [-5.37177559e-01,  1.95766909e+00, -1.39813811e+00,\n",
              "        -1.05003079e+00],\n",
              "       [-9.00681170e-01,  1.03205722e+00, -1.34127240e+00,\n",
              "        -1.18150376e+00],\n",
              "       [-1.73673948e-01,  1.72626612e+00, -1.17067529e+00,\n",
              "        -1.18150376e+00],\n",
              "       [-9.00681170e-01,  1.72626612e+00, -1.28440670e+00,\n",
              "        -1.18150376e+00],\n",
              "       [-5.37177559e-01,  8.00654259e-01, -1.17067529e+00,\n",
              "        -1.31297673e+00],\n",
              "       [-9.00681170e-01,  1.49486315e+00, -1.28440670e+00,\n",
              "        -1.05003079e+00],\n",
              "       [-1.50652052e+00,  1.26346019e+00, -1.56873522e+00,\n",
              "        -1.31297673e+00],\n",
              "       [-9.00681170e-01,  5.69251294e-01, -1.17067529e+00,\n",
              "        -9.18557817e-01],\n",
              "       [-1.26418478e+00,  8.00654259e-01, -1.05694388e+00,\n",
              "        -1.31297673e+00],\n",
              "       [-1.02184904e+00, -1.24957601e-01, -1.22754100e+00,\n",
              "        -1.31297673e+00],\n",
              "       [-1.02184904e+00,  8.00654259e-01, -1.22754100e+00,\n",
              "        -1.05003079e+00],\n",
              "       [-7.79513300e-01,  1.03205722e+00, -1.28440670e+00,\n",
              "        -1.31297673e+00],\n",
              "       [-7.79513300e-01,  8.00654259e-01, -1.34127240e+00,\n",
              "        -1.31297673e+00],\n",
              "       [-1.38535265e+00,  3.37848329e-01, -1.22754100e+00,\n",
              "        -1.31297673e+00],\n",
              "       [-1.26418478e+00,  1.06445364e-01, -1.22754100e+00,\n",
              "        -1.31297673e+00],\n",
              "       [-5.37177559e-01,  8.00654259e-01, -1.28440670e+00,\n",
              "        -1.05003079e+00],\n",
              "       [-7.79513300e-01,  2.42047502e+00, -1.28440670e+00,\n",
              "        -1.44444970e+00],\n",
              "       [-4.16009689e-01,  2.65187798e+00, -1.34127240e+00,\n",
              "        -1.31297673e+00],\n",
              "       [-1.14301691e+00,  1.06445364e-01, -1.28440670e+00,\n",
              "        -1.44444970e+00],\n",
              "       [-1.02184904e+00,  3.37848329e-01, -1.45500381e+00,\n",
              "        -1.31297673e+00],\n",
              "       [-4.16009689e-01,  1.03205722e+00, -1.39813811e+00,\n",
              "        -1.31297673e+00],\n",
              "       [-1.14301691e+00,  1.06445364e-01, -1.28440670e+00,\n",
              "        -1.44444970e+00],\n",
              "       [-1.74885626e+00, -1.24957601e-01, -1.39813811e+00,\n",
              "        -1.31297673e+00],\n",
              "       [-9.00681170e-01,  8.00654259e-01, -1.28440670e+00,\n",
              "        -1.31297673e+00],\n",
              "       [-1.02184904e+00,  1.03205722e+00, -1.39813811e+00,\n",
              "        -1.18150376e+00],\n",
              "       [-1.62768839e+00, -1.74477836e+00, -1.39813811e+00,\n",
              "        -1.18150376e+00],\n",
              "       [-1.74885626e+00,  3.37848329e-01, -1.39813811e+00,\n",
              "        -1.31297673e+00],\n",
              "       [-1.02184904e+00,  1.03205722e+00, -1.22754100e+00,\n",
              "        -7.87084847e-01],\n",
              "       [-9.00681170e-01,  1.72626612e+00, -1.05694388e+00,\n",
              "        -1.05003079e+00],\n",
              "       [-1.26418478e+00, -1.24957601e-01, -1.34127240e+00,\n",
              "        -1.18150376e+00],\n",
              "       [-9.00681170e-01,  1.72626612e+00, -1.22754100e+00,\n",
              "        -1.31297673e+00],\n",
              "       [-1.50652052e+00,  3.37848329e-01, -1.34127240e+00,\n",
              "        -1.31297673e+00],\n",
              "       [-6.58345429e-01,  1.49486315e+00, -1.28440670e+00,\n",
              "        -1.31297673e+00],\n",
              "       [-1.02184904e+00,  5.69251294e-01, -1.34127240e+00,\n",
              "        -1.31297673e+00],\n",
              "       [ 1.40150837e+00,  3.37848329e-01,  5.35295827e-01,\n",
              "         2.64698913e-01],\n",
              "       [ 6.74501145e-01,  3.37848329e-01,  4.21564419e-01,\n",
              "         3.96171883e-01],\n",
              "       [ 1.28034050e+00,  1.06445364e-01,  6.49027235e-01,\n",
              "         3.96171883e-01],\n",
              "       [-4.16009689e-01, -1.74477836e+00,  1.37235899e-01,\n",
              "         1.33225943e-01],\n",
              "       [ 7.95669016e-01, -5.87763531e-01,  4.78430123e-01,\n",
              "         3.96171883e-01],\n",
              "       [-1.73673948e-01, -5.87763531e-01,  4.21564419e-01,\n",
              "         1.33225943e-01],\n",
              "       [ 5.53333275e-01,  5.69251294e-01,  5.35295827e-01,\n",
              "         5.27644853e-01],\n",
              "       [-1.14301691e+00, -1.51337539e+00, -2.60824029e-01,\n",
              "        -2.61192967e-01],\n",
              "       [ 9.16836886e-01, -3.56360566e-01,  4.78430123e-01,\n",
              "         1.33225943e-01],\n",
              "       [-7.79513300e-01, -8.19166497e-01,  8.03701950e-02,\n",
              "         2.64698913e-01],\n",
              "       [-1.02184904e+00, -2.43898725e+00, -1.47092621e-01,\n",
              "        -2.61192967e-01],\n",
              "       [ 6.86617933e-02, -1.24957601e-01,  2.50967307e-01,\n",
              "         3.96171883e-01],\n",
              "       [ 1.89829664e-01, -1.97618132e+00,  1.37235899e-01,\n",
              "        -2.61192967e-01],\n",
              "       [ 3.10997534e-01, -3.56360566e-01,  5.35295827e-01,\n",
              "         2.64698913e-01],\n",
              "       [-2.94841818e-01, -3.56360566e-01, -9.02269170e-02,\n",
              "         1.33225943e-01],\n",
              "       [ 1.03800476e+00,  1.06445364e-01,  3.64698715e-01,\n",
              "         2.64698913e-01],\n",
              "       [-2.94841818e-01, -1.24957601e-01,  4.21564419e-01,\n",
              "         3.96171883e-01],\n",
              "       [-5.25060772e-02, -8.19166497e-01,  1.94101603e-01,\n",
              "        -2.61192967e-01],\n",
              "       [ 4.32165405e-01, -1.97618132e+00,  4.21564419e-01,\n",
              "         3.96171883e-01],\n",
              "       [-2.94841818e-01, -1.28197243e+00,  8.03701950e-02,\n",
              "        -1.29719997e-01],\n",
              "       [ 6.86617933e-02,  3.37848329e-01,  5.92161531e-01,\n",
              "         7.90590793e-01],\n",
              "       [ 3.10997534e-01, -5.87763531e-01,  1.37235899e-01,\n",
              "         1.33225943e-01],\n",
              "       [ 5.53333275e-01, -1.28197243e+00,  6.49027235e-01,\n",
              "         3.96171883e-01],\n",
              "       [ 3.10997534e-01, -5.87763531e-01,  5.35295827e-01,\n",
              "         1.75297293e-03],\n",
              "       [ 6.74501145e-01, -3.56360566e-01,  3.07833011e-01,\n",
              "         1.33225943e-01],\n",
              "       [ 9.16836886e-01, -1.24957601e-01,  3.64698715e-01,\n",
              "         2.64698913e-01],\n",
              "       [ 1.15917263e+00, -5.87763531e-01,  5.92161531e-01,\n",
              "         2.64698913e-01],\n",
              "       [ 1.03800476e+00, -1.24957601e-01,  7.05892939e-01,\n",
              "         6.59117823e-01],\n",
              "       [ 1.89829664e-01, -3.56360566e-01,  4.21564419e-01,\n",
              "         3.96171883e-01],\n",
              "       [-1.73673948e-01, -1.05056946e+00, -1.47092621e-01,\n",
              "        -2.61192967e-01],\n",
              "       [-4.16009689e-01, -1.51337539e+00,  2.35044910e-02,\n",
              "        -1.29719997e-01],\n",
              "       [-4.16009689e-01, -1.51337539e+00, -3.33612130e-02,\n",
              "        -2.61192967e-01],\n",
              "       [-5.25060772e-02, -8.19166497e-01,  8.03701950e-02,\n",
              "         1.75297293e-03],\n",
              "       [ 1.89829664e-01, -8.19166497e-01,  7.62758643e-01,\n",
              "         5.27644853e-01],\n",
              "       [-5.37177559e-01, -1.24957601e-01,  4.21564419e-01,\n",
              "         3.96171883e-01],\n",
              "       [ 1.89829664e-01,  8.00654259e-01,  4.21564419e-01,\n",
              "         5.27644853e-01],\n",
              "       [ 1.03800476e+00,  1.06445364e-01,  5.35295827e-01,\n",
              "         3.96171883e-01],\n",
              "       [ 5.53333275e-01, -1.74477836e+00,  3.64698715e-01,\n",
              "         1.33225943e-01],\n",
              "       [-2.94841818e-01, -1.24957601e-01,  1.94101603e-01,\n",
              "         1.33225943e-01],\n",
              "       [-4.16009689e-01, -1.28197243e+00,  1.37235899e-01,\n",
              "         1.33225943e-01],\n",
              "       [-4.16009689e-01, -1.05056946e+00,  3.64698715e-01,\n",
              "         1.75297293e-03],\n",
              "       [ 3.10997534e-01, -1.24957601e-01,  4.78430123e-01,\n",
              "         2.64698913e-01],\n",
              "       [-5.25060772e-02, -1.05056946e+00,  1.37235899e-01,\n",
              "         1.75297293e-03],\n",
              "       [-1.02184904e+00, -1.74477836e+00, -2.60824029e-01,\n",
              "        -2.61192967e-01],\n",
              "       [-2.94841818e-01, -8.19166497e-01,  2.50967307e-01,\n",
              "         1.33225943e-01],\n",
              "       [-1.73673948e-01, -1.24957601e-01,  2.50967307e-01,\n",
              "         1.75297293e-03],\n",
              "       [-1.73673948e-01, -3.56360566e-01,  2.50967307e-01,\n",
              "         1.33225943e-01],\n",
              "       [ 4.32165405e-01, -3.56360566e-01,  3.07833011e-01,\n",
              "         1.33225943e-01],\n",
              "       [-9.00681170e-01, -1.28197243e+00, -4.31421141e-01,\n",
              "        -1.29719997e-01],\n",
              "       [-1.73673948e-01, -5.87763531e-01,  1.94101603e-01,\n",
              "         1.33225943e-01],\n",
              "       [ 5.53333275e-01,  5.69251294e-01,  1.27454998e+00,\n",
              "         1.71090158e+00],\n",
              "       [-5.25060772e-02, -8.19166497e-01,  7.62758643e-01,\n",
              "         9.22063763e-01],\n",
              "       [ 1.52267624e+00, -1.24957601e-01,  1.21768427e+00,\n",
              "         1.18500970e+00],\n",
              "       [ 5.53333275e-01, -3.56360566e-01,  1.04708716e+00,\n",
              "         7.90590793e-01],\n",
              "       [ 7.95669016e-01, -1.24957601e-01,  1.16081857e+00,\n",
              "         1.31648267e+00],\n",
              "       [ 2.12851559e+00, -1.24957601e-01,  1.61574420e+00,\n",
              "         1.18500970e+00],\n",
              "       [-1.14301691e+00, -1.28197243e+00,  4.21564419e-01,\n",
              "         6.59117823e-01],\n",
              "       [ 1.76501198e+00, -3.56360566e-01,  1.44514709e+00,\n",
              "         7.90590793e-01],\n",
              "       [ 1.03800476e+00, -1.28197243e+00,  1.16081857e+00,\n",
              "         7.90590793e-01],\n",
              "       [ 1.64384411e+00,  1.26346019e+00,  1.33141568e+00,\n",
              "         1.71090158e+00],\n",
              "       [ 7.95669016e-01,  3.37848329e-01,  7.62758643e-01,\n",
              "         1.05353673e+00],\n",
              "       [ 6.74501145e-01, -8.19166497e-01,  8.76490051e-01,\n",
              "         9.22063763e-01],\n",
              "       [ 1.15917263e+00, -1.24957601e-01,  9.90221459e-01,\n",
              "         1.18500970e+00],\n",
              "       [-1.73673948e-01, -1.28197243e+00,  7.05892939e-01,\n",
              "         1.05353673e+00],\n",
              "       [-5.25060772e-02, -5.87763531e-01,  7.62758643e-01,\n",
              "         1.57942861e+00],\n",
              "       [ 6.74501145e-01,  3.37848329e-01,  8.76490051e-01,\n",
              "         1.44795564e+00],\n",
              "       [ 7.95669016e-01, -1.24957601e-01,  9.90221459e-01,\n",
              "         7.90590793e-01],\n",
              "       [ 2.24968346e+00,  1.72626612e+00,  1.67260991e+00,\n",
              "         1.31648267e+00],\n",
              "       [ 2.24968346e+00, -1.05056946e+00,  1.78634131e+00,\n",
              "         1.44795564e+00],\n",
              "       [ 1.89829664e-01, -1.97618132e+00,  7.05892939e-01,\n",
              "         3.96171883e-01],\n",
              "       [ 1.28034050e+00,  3.37848329e-01,  1.10395287e+00,\n",
              "         1.44795564e+00],\n",
              "       [-2.94841818e-01, -5.87763531e-01,  6.49027235e-01,\n",
              "         1.05353673e+00],\n",
              "       [ 2.24968346e+00, -5.87763531e-01,  1.67260991e+00,\n",
              "         1.05353673e+00],\n",
              "       [ 5.53333275e-01, -8.19166497e-01,  6.49027235e-01,\n",
              "         7.90590793e-01],\n",
              "       [ 1.03800476e+00,  5.69251294e-01,  1.10395287e+00,\n",
              "         1.18500970e+00],\n",
              "       [ 1.64384411e+00,  3.37848329e-01,  1.27454998e+00,\n",
              "         7.90590793e-01],\n",
              "       [ 4.32165405e-01, -5.87763531e-01,  5.92161531e-01,\n",
              "         7.90590793e-01],\n",
              "       [ 3.10997534e-01, -1.24957601e-01,  6.49027235e-01,\n",
              "         7.90590793e-01],\n",
              "       [ 6.74501145e-01, -5.87763531e-01,  1.04708716e+00,\n",
              "         1.18500970e+00],\n",
              "       [ 1.64384411e+00, -1.24957601e-01,  1.16081857e+00,\n",
              "         5.27644853e-01],\n",
              "       [ 1.88617985e+00, -5.87763531e-01,  1.33141568e+00,\n",
              "         9.22063763e-01],\n",
              "       [ 2.49201920e+00,  1.72626612e+00,  1.50201279e+00,\n",
              "         1.05353673e+00],\n",
              "       [ 6.74501145e-01, -5.87763531e-01,  1.04708716e+00,\n",
              "         1.31648267e+00],\n",
              "       [ 5.53333275e-01, -5.87763531e-01,  7.62758643e-01,\n",
              "         3.96171883e-01],\n",
              "       [ 3.10997534e-01, -1.05056946e+00,  1.04708716e+00,\n",
              "         2.64698913e-01],\n",
              "       [ 2.24968346e+00, -1.24957601e-01,  1.33141568e+00,\n",
              "         1.44795564e+00],\n",
              "       [ 5.53333275e-01,  8.00654259e-01,  1.04708716e+00,\n",
              "         1.57942861e+00],\n",
              "       [ 6.74501145e-01,  1.06445364e-01,  9.90221459e-01,\n",
              "         7.90590793e-01],\n",
              "       [ 1.89829664e-01, -1.24957601e-01,  5.92161531e-01,\n",
              "         7.90590793e-01],\n",
              "       [ 1.28034050e+00,  1.06445364e-01,  9.33355755e-01,\n",
              "         1.18500970e+00],\n",
              "       [ 1.03800476e+00,  1.06445364e-01,  1.04708716e+00,\n",
              "         1.57942861e+00],\n",
              "       [ 1.28034050e+00,  1.06445364e-01,  7.62758643e-01,\n",
              "         1.44795564e+00],\n",
              "       [-5.25060772e-02, -8.19166497e-01,  7.62758643e-01,\n",
              "         9.22063763e-01],\n",
              "       [ 1.15917263e+00,  3.37848329e-01,  1.21768427e+00,\n",
              "         1.44795564e+00],\n",
              "       [ 1.03800476e+00,  5.69251294e-01,  1.10395287e+00,\n",
              "         1.71090158e+00],\n",
              "       [ 1.03800476e+00, -1.24957601e-01,  8.19624347e-01,\n",
              "         1.44795564e+00],\n",
              "       [ 5.53333275e-01, -1.28197243e+00,  7.05892939e-01,\n",
              "         9.22063763e-01],\n",
              "       [ 7.95669016e-01, -1.24957601e-01,  8.19624347e-01,\n",
              "         1.05353673e+00],\n",
              "       [ 4.32165405e-01,  8.00654259e-01,  9.33355755e-01,\n",
              "         1.44795564e+00],\n",
              "       [ 6.86617933e-02, -1.24957601e-01,  7.62758643e-01,\n",
              "         7.90590793e-01]])"
            ]
          },
          "metadata": {
            "tags": []
          },
          "execution_count": 35
        }
      ]
    },
    {
      "cell_type": "code",
      "metadata": {
        "id": "SBWAPwealCIB",
        "colab_type": "code",
        "colab": {
          "base_uri": "https://localhost:8080/",
          "height": 34
        },
        "outputId": "36e396e2-80bf-42ca-d058-92d5e1b5e230"
      },
      "source": [
        "print(np.mean(Z, axis=0))"
      ],
      "execution_count": 36,
      "outputs": [
        {
          "output_type": "stream",
          "text": [
            "[-4.73695157e-16 -6.63173220e-16  3.31586610e-16 -2.84217094e-16]\n"
          ],
          "name": "stdout"
        }
      ]
    },
    {
      "cell_type": "markdown",
      "metadata": {
        "id": "700AM5Qrv3zm",
        "colab_type": "text"
      },
      "source": [
        "## 4) Calculate the Variance-Covariance matrix of Z. \n",
        "\n",
        "Do this by calculating $Z^{T}Z$ Mind blown! - Multiplying a matrix by its transpose yields the variance-covariance matrix. "
      ]
    },
    {
      "cell_type": "code",
      "metadata": {
        "id": "djEGsEW_lCLI",
        "colab_type": "code",
        "colab": {
          "base_uri": "https://localhost:8080/",
          "height": 34
        },
        "outputId": "3a7c67db-54eb-4255-8ac6-8f0c47242a86"
      },
      "source": [
        "Z = StandardScaler().fit_transform(X)\n",
        "\n",
        "print(np.mean(Z.T, axis=1))"
      ],
      "execution_count": 37,
      "outputs": [
        {
          "output_type": "stream",
          "text": [
            "[-4.73695157e-16 -6.63173220e-16  3.31586610e-16 -2.84217094e-16]\n"
          ],
          "name": "stdout"
        }
      ]
    },
    {
      "cell_type": "code",
      "metadata": {
        "id": "N6UKwGuslCNw",
        "colab_type": "code",
        "colab": {
          "base_uri": "https://localhost:8080/",
          "height": 544
        },
        "outputId": "9445428f-2f36-4442-d5f7-4a99d4230e28"
      },
      "source": [
        "y = df_y.values\n",
        "y"
      ],
      "execution_count": 38,
      "outputs": [
        {
          "output_type": "execute_result",
          "data": {
            "text/plain": [
              "array(['setosa', 'setosa', 'setosa', 'setosa', 'setosa', 'setosa',\n",
              "       'setosa', 'setosa', 'setosa', 'setosa', 'setosa', 'setosa',\n",
              "       'setosa', 'setosa', 'setosa', 'setosa', 'setosa', 'setosa',\n",
              "       'setosa', 'setosa', 'setosa', 'setosa', 'setosa', 'setosa',\n",
              "       'setosa', 'setosa', 'setosa', 'setosa', 'setosa', 'setosa',\n",
              "       'setosa', 'setosa', 'setosa', 'setosa', 'setosa', 'setosa',\n",
              "       'setosa', 'setosa', 'setosa', 'setosa', 'setosa', 'setosa',\n",
              "       'setosa', 'setosa', 'setosa', 'setosa', 'setosa', 'setosa',\n",
              "       'setosa', 'setosa', 'versicolor', 'versicolor', 'versicolor',\n",
              "       'versicolor', 'versicolor', 'versicolor', 'versicolor',\n",
              "       'versicolor', 'versicolor', 'versicolor', 'versicolor',\n",
              "       'versicolor', 'versicolor', 'versicolor', 'versicolor',\n",
              "       'versicolor', 'versicolor', 'versicolor', 'versicolor',\n",
              "       'versicolor', 'versicolor', 'versicolor', 'versicolor',\n",
              "       'versicolor', 'versicolor', 'versicolor', 'versicolor',\n",
              "       'versicolor', 'versicolor', 'versicolor', 'versicolor',\n",
              "       'versicolor', 'versicolor', 'versicolor', 'versicolor',\n",
              "       'versicolor', 'versicolor', 'versicolor', 'versicolor',\n",
              "       'versicolor', 'versicolor', 'versicolor', 'versicolor',\n",
              "       'versicolor', 'versicolor', 'versicolor', 'versicolor',\n",
              "       'versicolor', 'versicolor', 'versicolor', 'virginica', 'virginica',\n",
              "       'virginica', 'virginica', 'virginica', 'virginica', 'virginica',\n",
              "       'virginica', 'virginica', 'virginica', 'virginica', 'virginica',\n",
              "       'virginica', 'virginica', 'virginica', 'virginica', 'virginica',\n",
              "       'virginica', 'virginica', 'virginica', 'virginica', 'virginica',\n",
              "       'virginica', 'virginica', 'virginica', 'virginica', 'virginica',\n",
              "       'virginica', 'virginica', 'virginica', 'virginica', 'virginica',\n",
              "       'virginica', 'virginica', 'virginica', 'virginica', 'virginica',\n",
              "       'virginica', 'virginica', 'virginica', 'virginica', 'virginica',\n",
              "       'virginica', 'virginica', 'virginica', 'virginica', 'virginica',\n",
              "       'virginica', 'virginica', 'virginica'], dtype=object)"
            ]
          },
          "metadata": {
            "tags": []
          },
          "execution_count": 38
        }
      ]
    },
    {
      "cell_type": "code",
      "metadata": {
        "id": "KbJ_PfbelCQA",
        "colab_type": "code",
        "colab": {
          "base_uri": "https://localhost:8080/",
          "height": 1000
        },
        "outputId": "68d6ee5c-4f79-48ce-b91d-06671927942d"
      },
      "source": [
        "from sklearn.decomposition import PCA\n",
        "\n",
        "pcanalaysis = PCA(2)\n",
        "new_data = pca.fit_transform(Z)\n",
        "new_data"
      ],
      "execution_count": 48,
      "outputs": [
        {
          "output_type": "execute_result",
          "data": {
            "text/plain": [
              "array([[-2.26454173e+00,  5.05703903e-01],\n",
              "       [-2.08642550e+00, -6.55404729e-01],\n",
              "       [-2.36795045e+00, -3.18477311e-01],\n",
              "       [-2.30419716e+00, -5.75367713e-01],\n",
              "       [-2.38877749e+00,  6.74767397e-01],\n",
              "       [-2.07053681e+00,  1.51854856e+00],\n",
              "       [-2.44571134e+00,  7.45626750e-02],\n",
              "       [-2.23384186e+00,  2.47613932e-01],\n",
              "       [-2.34195768e+00, -1.09514636e+00],\n",
              "       [-2.18867576e+00, -4.48629048e-01],\n",
              "       [-2.16348656e+00,  1.07059558e+00],\n",
              "       [-2.32737775e+00,  1.58587455e-01],\n",
              "       [-2.22408272e+00, -7.09118158e-01],\n",
              "       [-2.63971626e+00, -9.38281982e-01],\n",
              "       [-2.19229151e+00,  1.88997851e+00],\n",
              "       [-2.25146521e+00,  2.72237108e+00],\n",
              "       [-2.20275048e+00,  1.51375028e+00],\n",
              "       [-2.19017916e+00,  5.14304308e-01],\n",
              "       [-1.89407429e+00,  1.43111071e+00],\n",
              "       [-2.33994907e+00,  1.15803343e+00],\n",
              "       [-1.91455639e+00,  4.30465163e-01],\n",
              "       [-2.20464540e+00,  9.52457317e-01],\n",
              "       [-2.77416979e+00,  4.89517027e-01],\n",
              "       [-1.82041156e+00,  1.06750793e-01],\n",
              "       [-2.22821750e+00,  1.62186163e-01],\n",
              "       [-1.95702401e+00, -6.07892567e-01],\n",
              "       [-2.05206331e+00,  2.66014312e-01],\n",
              "       [-2.16819365e+00,  5.52016495e-01],\n",
              "       [-2.14030596e+00,  3.36640409e-01],\n",
              "       [-2.26879019e+00, -3.14878603e-01],\n",
              "       [-2.14455443e+00, -4.83942097e-01],\n",
              "       [-1.83193810e+00,  4.45266836e-01],\n",
              "       [-2.60820287e+00,  1.82847519e+00],\n",
              "       [-2.43795086e+00,  2.18539162e+00],\n",
              "       [-2.18867576e+00, -4.48629048e-01],\n",
              "       [-2.21111990e+00, -1.84337811e-01],\n",
              "       [-2.04441652e+00,  6.84956426e-01],\n",
              "       [-2.18867576e+00, -4.48629048e-01],\n",
              "       [-2.43595220e+00, -8.82169415e-01],\n",
              "       [-2.17054720e+00,  2.92726955e-01],\n",
              "       [-2.28652724e+00,  4.67991716e-01],\n",
              "       [-1.87170722e+00, -2.32769161e+00],\n",
              "       [-2.55783442e+00, -4.53816380e-01],\n",
              "       [-1.96427929e+00,  4.97391640e-01],\n",
              "       [-2.13337283e+00,  1.17143211e+00],\n",
              "       [-2.07535759e+00, -6.91917347e-01],\n",
              "       [-2.38125822e+00,  1.15063259e+00],\n",
              "       [-2.39819169e+00, -3.62390765e-01],\n",
              "       [-2.22678121e+00,  1.02548255e+00],\n",
              "       [-2.20595417e+00,  3.22378453e-02],\n",
              "       [ 1.10399365e+00,  8.63112446e-01],\n",
              "       [ 7.32481440e-01,  5.98635573e-01],\n",
              "       [ 1.24210951e+00,  6.14822450e-01],\n",
              "       [ 3.97307283e-01, -1.75816895e+00],\n",
              "       [ 1.07259395e+00, -2.11757903e-01],\n",
              "       [ 3.84458146e-01, -5.91062469e-01],\n",
              "       [ 7.48715076e-01,  7.78698611e-01],\n",
              "       [-4.97863388e-01, -1.84886877e+00],\n",
              "       [ 9.26222368e-01,  3.03308268e-02],\n",
              "       [ 4.96802558e-03, -1.02940111e+00],\n",
              "       [-1.24697461e-01, -2.65806268e+00],\n",
              "       [ 4.38730118e-01, -5.88812850e-02],\n",
              "       [ 5.51633981e-01, -1.77258156e+00],\n",
              "       [ 7.17165066e-01, -1.85434315e-01],\n",
              "       [-3.72583830e-02, -4.32795099e-01],\n",
              "       [ 8.75890536e-01,  5.09998151e-01],\n",
              "       [ 3.48006402e-01, -1.90621647e-01],\n",
              "       [ 1.53392545e-01, -7.90725456e-01],\n",
              "       [ 1.21530321e+00, -1.63335564e+00],\n",
              "       [ 1.56941176e-01, -1.30310327e+00],\n",
              "       [ 7.38256104e-01,  4.02470382e-01],\n",
              "       [ 4.72369682e-01, -4.16608222e-01],\n",
              "       [ 1.22798821e+00, -9.40914793e-01],\n",
              "       [ 6.29381045e-01, -4.16811643e-01],\n",
              "       [ 7.00472799e-01, -6.34939277e-02],\n",
              "       [ 8.73536987e-01,  2.50708611e-01],\n",
              "       [ 1.25422219e+00, -8.26200998e-02],\n",
              "       [ 1.35823985e+00,  3.28820266e-01],\n",
              "       [ 6.62126138e-01, -2.24346071e-01],\n",
              "       [-4.72815133e-02, -1.05721241e+00],\n",
              "       [ 1.21534209e-01, -1.56359238e+00],\n",
              "       [ 1.41182261e-02, -1.57339235e+00],\n",
              "       [ 2.36010837e-01, -7.75923784e-01],\n",
              "       [ 1.05669143e+00, -6.36901284e-01],\n",
              "       [ 2.21417088e-01, -2.80847693e-01],\n",
              "       [ 4.31783161e-01,  8.55136920e-01],\n",
              "       [ 1.04941336e+00,  5.22197265e-01],\n",
              "       [ 1.03587821e+00, -1.39246648e+00],\n",
              "       [ 6.70675999e-02, -2.12620735e-01],\n",
              "       [ 2.75425066e-01, -1.32981591e+00],\n",
              "       [ 2.72335066e-01, -1.11944152e+00],\n",
              "       [ 6.23170540e-01,  2.75426333e-02],\n",
              "       [ 3.30005364e-01, -9.88900732e-01],\n",
              "       [-3.73627623e-01, -2.01793227e+00],\n",
              "       [ 2.82944343e-01, -8.53950717e-01],\n",
              "       [ 8.90531103e-02, -1.74908548e-01],\n",
              "       [ 2.24356783e-01, -3.80484659e-01],\n",
              "       [ 5.73883486e-01, -1.53719974e-01],\n",
              "       [-4.57012873e-01, -1.53946451e+00],\n",
              "       [ 2.52244473e-01, -5.95860746e-01],\n",
              "       [ 1.84767259e+00,  8.71696662e-01],\n",
              "       [ 1.15318981e+00, -7.01326114e-01],\n",
              "       [ 2.20634950e+00,  5.54470105e-01],\n",
              "       [ 1.43868540e+00, -5.00105223e-02],\n",
              "       [ 1.86789070e+00,  2.91192802e-01],\n",
              "       [ 2.75419671e+00,  7.88432206e-01],\n",
              "       [ 3.58374475e-01, -1.56009458e+00],\n",
              "       [ 2.30300590e+00,  4.09516695e-01],\n",
              "       [ 2.00173530e+00, -7.23865359e-01],\n",
              "       [ 2.26755460e+00,  1.92144299e+00],\n",
              "       [ 1.36590943e+00,  6.93948040e-01],\n",
              "       [ 1.59906459e+00, -4.28248836e-01],\n",
              "       [ 1.88425185e+00,  4.14332758e-01],\n",
              "       [ 1.25308651e+00, -1.16739134e+00],\n",
              "       [ 1.46406152e+00, -4.44147569e-01],\n",
              "       [ 1.59180930e+00,  6.77035372e-01],\n",
              "       [ 1.47128019e+00,  2.53192472e-01],\n",
              "       [ 2.43737848e+00,  2.55675734e+00],\n",
              "       [ 3.30914118e+00, -2.36132010e-03],\n",
              "       [ 1.25398099e+00, -1.71758384e+00],\n",
              "       [ 2.04049626e+00,  9.07398765e-01],\n",
              "       [ 9.73915114e-01, -5.71174376e-01],\n",
              "       [ 2.89806444e+00,  3.97791359e-01],\n",
              "       [ 1.32919369e+00, -4.86760542e-01],\n",
              "       [ 1.70424071e+00,  1.01414842e+00],\n",
              "       [ 1.95772766e+00,  1.00333452e+00],\n",
              "       [ 1.17190451e+00, -3.18896617e-01],\n",
              "       [ 1.01978105e+00,  6.55429631e-02],\n",
              "       [ 1.78600886e+00, -1.93272800e-01],\n",
              "       [ 1.86477791e+00,  5.55381532e-01],\n",
              "       [ 2.43549739e+00,  2.46654468e-01],\n",
              "       [ 2.31608241e+00,  2.62618387e+00],\n",
              "       [ 1.86037143e+00, -1.84672394e-01],\n",
              "       [ 1.11127173e+00, -2.95986102e-01],\n",
              "       [ 1.19746916e+00, -8.17167742e-01],\n",
              "       [ 2.80094940e+00,  8.44748194e-01],\n",
              "       [ 1.58015525e+00,  1.07247450e+00],\n",
              "       [ 1.34704442e+00,  4.22255966e-01],\n",
              "       [ 9.23432978e-01,  1.92303705e-02],\n",
              "       [ 1.85355198e+00,  6.72422729e-01],\n",
              "       [ 2.01615720e+00,  6.10397038e-01],\n",
              "       [ 1.90311686e+00,  6.86024832e-01],\n",
              "       [ 1.15318981e+00, -7.01326114e-01],\n",
              "       [ 2.04330844e+00,  8.64684880e-01],\n",
              "       [ 2.00169097e+00,  1.04855005e+00],\n",
              "       [ 1.87052207e+00,  3.82821838e-01],\n",
              "       [ 1.55849189e+00, -9.05313601e-01],\n",
              "       [ 1.52084506e+00,  2.66794575e-01],\n",
              "       [ 1.37639119e+00,  1.01636193e+00],\n",
              "       [ 9.59298576e-01, -2.22839447e-02]])"
            ]
          },
          "metadata": {
            "tags": []
          },
          "execution_count": 48
        }
      ]
    },
    {
      "cell_type": "code",
      "metadata": {
        "id": "Cddd8futlCTg",
        "colab_type": "code",
        "colab": {}
      },
      "source": [
        "import matplotlib.pyplot as plt"
      ],
      "execution_count": 0,
      "outputs": []
    },
    {
      "cell_type": "code",
      "metadata": {
        "id": "eDXZghBAlCV8",
        "colab_type": "code",
        "colab": {
          "base_uri": "https://localhost:8080/",
          "height": 286
        },
        "outputId": "4431de3a-9e46-48f2-945c-9bc46a92de00"
      },
      "source": [
        "plt.scatter(new_data[:,0], new_data[:,1])"
      ],
      "execution_count": 50,
      "outputs": [
        {
          "output_type": "execute_result",
          "data": {
            "text/plain": [
              "<matplotlib.collections.PathCollection at 0x7f01d247b940>"
            ]
          },
          "metadata": {
            "tags": []
          },
          "execution_count": 50
        },
        {
          "output_type": "display_data",
          "data": {
            "image/png": "[encoded data removed]",
            "text/plain": [
              "<Figure size 432x288 with 1 Axes>"
            ]
          },
          "metadata": {
            "tags": []
          }
        }
      ]
    },
    {
      "cell_type": "code",
      "metadata": {
        "id": "jInpKw77lCYx",
        "colab_type": "code",
        "colab": {
          "base_uri": "https://localhost:8080/",
          "height": 286
        },
        "outputId": "c66749c1-7a0f-4b01-80fd-8473eea05827"
      },
      "source": [
        "plt.scatter(df.petal_length, df.sepal_width)"
      ],
      "execution_count": 52,
      "outputs": [
        {
          "output_type": "execute_result",
          "data": {
            "text/plain": [
              "<matplotlib.collections.PathCollection at 0x7f01d23dc7f0>"
            ]
          },
          "metadata": {
            "tags": []
          },
          "execution_count": 52
        },
        {
          "output_type": "display_data",
          "data": {
            "image/png": "[encoded data removed]",
            "text/plain": [
              "<Figure size 432x288 with 1 Axes>"
            ]
          },
          "metadata": {
            "tags": []
          }
        }
      ]
    },
    {
      "cell_type": "code",
      "metadata": {
        "id": "4Jcr3gHwlCbQ",
        "colab_type": "code",
        "colab": {
          "base_uri": "https://localhost:8080/",
          "height": 725
        },
        "outputId": "a4dc8994-a8aa-4721-b38c-61e34a93660e"
      },
      "source": [
        "import seaborn as sns; sns.set(style='ticks',color_codes=True)\n",
        "iris = sns.load_dataset('iris')\n",
        "g = sns.pairplot(iris, hue='species')"
      ],
      "execution_count": 54,
      "outputs": [
        {
          "output_type": "display_data",
          "data": {
            "image/png": "[encoded data removed]",
            "text/plain": [
              "<Figure size 813.85x720 with 20 Axes>"
            ]
          },
          "metadata": {
            "tags": []
          }
        }
      ]
    },
    {
      "cell_type": "markdown",
      "metadata": {
        "id": "9i87RJH9zq82",
        "colab_type": "text"
      },
      "source": [
        "#BELOW IS A FEATURE ADDITION PROCESS"
      ]
    },
    {
      "cell_type": "code",
      "metadata": {
        "id": "iRpjNCrTyxx_",
        "colab_type": "code",
        "colab": {
          "base_uri": "https://localhost:8080/",
          "height": 142
        },
        "outputId": "c686e2c5-4541-45db-e706-6a144c6dc095"
      },
      "source": [
        "df = pd.DataFrame({'a':[1,2,3],'b':[4,5,6]})\n",
        "df.head()"
      ],
      "execution_count": 55,
      "outputs": [
        {
          "output_type": "execute_result",
          "data": {
            "text/html": [
              "<div>\n",
              "<style scoped>\n",
              "    .dataframe tbody tr th:only-of-type {\n",
              "        vertical-align: middle;\n",
              "    }\n",
              "\n",
              "    .dataframe tbody tr th {\n",
              "        vertical-align: top;\n",
              "    }\n",
              "\n",
              "    .dataframe thead th {\n",
              "        text-align: right;\n",
              "    }\n",
              "</style>\n",
              "<table border=\"1\" class=\"dataframe\">\n",
              "  <thead>\n",
              "    <tr style=\"text-align: right;\">\n",
              "      <th></th>\n",
              "      <th>a</th>\n",
              "      <th>b</th>\n",
              "    </tr>\n",
              "  </thead>\n",
              "  <tbody>\n",
              "    <tr>\n",
              "      <th>0</th>\n",
              "      <td>1</td>\n",
              "      <td>4</td>\n",
              "    </tr>\n",
              "    <tr>\n",
              "      <th>1</th>\n",
              "      <td>2</td>\n",
              "      <td>5</td>\n",
              "    </tr>\n",
              "    <tr>\n",
              "      <th>2</th>\n",
              "      <td>3</td>\n",
              "      <td>6</td>\n",
              "    </tr>\n",
              "  </tbody>\n",
              "</table>\n",
              "</div>"
            ],
            "text/plain": [
              "   a  b\n",
              "0  1  4\n",
              "1  2  5\n",
              "2  3  6"
            ]
          },
          "metadata": {
            "tags": []
          },
          "execution_count": 55
        }
      ]
    },
    {
      "cell_type": "code",
      "metadata": {
        "id": "RapZZ9rXyx1G",
        "colab_type": "code",
        "colab": {}
      },
      "source": [
        "my_list = np.array([7,8,9])"
      ],
      "execution_count": 0,
      "outputs": []
    },
    {
      "cell_type": "code",
      "metadata": {
        "id": "qkzWTn3gyx34",
        "colab_type": "code",
        "colab": {}
      },
      "source": [
        "new_column_series = pd.Series(my_list)"
      ],
      "execution_count": 0,
      "outputs": []
    },
    {
      "cell_type": "code",
      "metadata": {
        "id": "X3h5fpuryx6W",
        "colab_type": "code",
        "colab": {
          "base_uri": "https://localhost:8080/",
          "height": 142
        },
        "outputId": "731ad57a-b4c3-491e-e6f5-cc2e2148b6f5"
      },
      "source": [
        "df['c'] = new_column_series\n",
        "df.head()"
      ],
      "execution_count": 58,
      "outputs": [
        {
          "output_type": "execute_result",
          "data": {
            "text/html": [
              "<div>\n",
              "<style scoped>\n",
              "    .dataframe tbody tr th:only-of-type {\n",
              "        vertical-align: middle;\n",
              "    }\n",
              "\n",
              "    .dataframe tbody tr th {\n",
              "        vertical-align: top;\n",
              "    }\n",
              "\n",
              "    .dataframe thead th {\n",
              "        text-align: right;\n",
              "    }\n",
              "</style>\n",
              "<table border=\"1\" class=\"dataframe\">\n",
              "  <thead>\n",
              "    <tr style=\"text-align: right;\">\n",
              "      <th></th>\n",
              "      <th>a</th>\n",
              "      <th>b</th>\n",
              "      <th>c</th>\n",
              "    </tr>\n",
              "  </thead>\n",
              "  <tbody>\n",
              "    <tr>\n",
              "      <th>0</th>\n",
              "      <td>1</td>\n",
              "      <td>4</td>\n",
              "      <td>7</td>\n",
              "    </tr>\n",
              "    <tr>\n",
              "      <th>1</th>\n",
              "      <td>2</td>\n",
              "      <td>5</td>\n",
              "      <td>8</td>\n",
              "    </tr>\n",
              "    <tr>\n",
              "      <th>2</th>\n",
              "      <td>3</td>\n",
              "      <td>6</td>\n",
              "      <td>9</td>\n",
              "    </tr>\n",
              "  </tbody>\n",
              "</table>\n",
              "</div>"
            ],
            "text/plain": [
              "   a  b  c\n",
              "0  1  4  7\n",
              "1  2  5  8\n",
              "2  3  6  9"
            ]
          },
          "metadata": {
            "tags": []
          },
          "execution_count": 58
        }
      ]
    },
    {
      "cell_type": "markdown",
      "metadata": {
        "id": "RQx7UvsucIrL",
        "colab_type": "text"
      },
      "source": [
        "# Stretch Goal\n",
        "\n",
        "## 1) Do NOT work on the stretch goal until you feel like you have a firm grasp of eigenvectors, eigenvalues, and PCA. Prioritize self-study over the stretch goal if you are not comfortable with those topics yet.\n",
        "\n",
        "## 2) Explore further the intuition behind eigenvalues and eigenvectors by creating your very own eigenfaces:\n",
        "\n",
        "<center>![Eigenfaces](https://i.pinimg.com/236x/1c/f1/01/1cf101a9859437a5d096a04b05be06b4--faces-tattoo.jpg)</center>\n",
        "\n",
        "You don't necessarily have to use this resource, but this will get you started: \n",
        "[Eigenface Tutorial](https://sandipanweb.wordpress.com/2018/01/06/eigenfaces-and-a-simple-face-detector-with-pca-svd-in-python/)"
      ]
    }
  ]
}